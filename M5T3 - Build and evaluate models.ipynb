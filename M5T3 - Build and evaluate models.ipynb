{
 "cells": [
  {
   "cell_type": "markdown",
   "metadata": {},
   "source": [
    "# Student : Steven Melendez Lara\n",
    "### Curso: XTOL - Module 5 - Task 3 - Group: C-3 \n",
    "### Date: March 2020"
   ]
  },
  {
   "cell_type": "code",
   "execution_count": 35,
   "metadata": {},
   "outputs": [],
   "source": [
    "# import warnings filter\n",
    "from warnings import simplefilter\n",
    "# ignore all future warnings\n",
    "simplefilter(action='ignore', category=FutureWarning)\n",
    "\n",
    "# Link to this solution\n",
    "# https://machinelearningmastery.com/how-to-fix-futurewarning-messages-in-scikit-learn/"
   ]
  },
  {
   "cell_type": "markdown",
   "metadata": {},
   "source": [
    "# 1 - Task Description\n",
    "\n",
    "Hi,\n",
    "\n",
    "Now that you have successfully imported, prepared and explored the data you are ready to start exploring some possible tools for your analysis. When you worked in R you used the caret package for many of your machine learning and data mining tasks. Python has a similar library called Sci-Kit Learn that the client has specifically asked us to use because it is likely to be compatible a custom software solution they plan to deploy.\n",
    "\n",
    "In this task you’ll build your models just as you have done previously, but with a different set of tools. As you progress remember the following:\n",
    "\n",
    "Let the data tell the story – don't make any assumptions.\n",
    "It is often best to build three or more models and compare the results.\n",
    "Make sure you have chosen the correct tools for the type of data you have.\n",
    "I suggest you start this task with a quick orientation on Sci-Kit Learn to become familiar with the benefits of using it and how to use it effectively for this project. \n",
    "\n",
    "GR \n",
    "\n",
    "Guido Rossum\n",
    "Senior Data Scientist\n",
    "Credit One\n",
    "www.creditonellc.com"
   ]
  },
  {
   "cell_type": "markdown",
   "metadata": {},
   "source": [
    "## 1.1 Deliverables\n",
    "### 1.1.1 General Requirements"
   ]
  },
  {
   "cell_type": "raw",
   "metadata": {},
   "source": [
    "Guido is expecting a report in a few days:\n",
    "1 - Your report should be a one to three page Word document that includes rules you believe provide insights, any relevant visualizations, and the answers to the company's questions.\n",
    "2 - It should also include any observations that you've made and any recommendations you might have, supported by evidence uncovered in your analysis.\n",
    "\n",
    "Note: Your Data Science work should be submitted as a Juypyter Notebook and in your GitHub account. "
   ]
  },
  {
   "cell_type": "markdown",
   "metadata": {},
   "source": [
    "### 1.1.2 Specific Requirements"
   ]
  },
  {
   "cell_type": "raw",
   "metadata": {},
   "source": [
    "Here is the list of requirements that your data science process should include for your final report:\n",
    "\n",
    "1 - Cleaning and Pre-processing\n",
    "2 - Covariance Estimation\n",
    "3 - EDA\n",
    "4 - Feature Engineering (either PCA or RFE) and Dimensionality Reduction\n",
    "5 - One-Hot Encoding (if needed)\n",
    "6 - Classification (Build three model and choose the best)\n",
    "7 - Model Tuning (Tune at least two parameters for each model you build)\n",
    "8 - Model Evaluation"
   ]
  },
  {
   "cell_type": "markdown",
   "metadata": {},
   "source": [
    "### 1.1.3 Dataset Description"
   ]
  },
  {
   "cell_type": "raw",
   "metadata": {},
   "source": [
    "Attribute Information\n",
    "This dataset contains information on default payments, demographic factors, credit data, history of payment, and bill statements of credit card clients in Taiwan from April 2005 to September 2005.\n",
    "\n",
    "Content\n",
    "There are 25 variables:\n",
    "\n",
    "ID: ID of each client,\n",
    "LIMIT_BAL: Amount of given credit in NT dollars (includes individual and family/supplementary credit,\n",
    "SEX: Gender (1=male, 2=female)\n",
    "EDUCATION: (1=graduate school, 2=university, 3=high school, 4=others, 5=unknown, 6=unknown)\n",
    "MARRIAGE: Marital status (1=married, 2=single, 3=others)\n",
    "AGE: Age in years\n",
    "PAY_0: Repayment status in September, 2005 (-1=pay duly, 1=payment delay for one month, 2=payment delay for two months, … 8=payment delay for eight months, 9=payment delay for nine months and above)\n",
    "PAY_2: Repayment status in August, 2005 (scale same as above)\n",
    "PAY_3: Repayment status in July, 2005 (scale same as above)\n",
    "PAY_4: Repayment status in June, 2005 (scale same as above)\n",
    "PAY_5: Repayment status in May, 2005 (scale same as above)\n",
    "PAY_6: Repayment status in April, 2005 (scale same as above)\n",
    "BILL_AMT1: Amount of bill statement in September, 2005 (NT dollar)\n",
    "BILL_AMT2: Amount of bill statement in August, 2005 (NT dollar)\n",
    "BILL_AMT3: Amount of bill statement in July, 2005 (NT dollar)\n",
    "BILL_AMT4: Amount of bill statement in June, 2005 (NT dollar)\n",
    "BILL_AMT5: Amount of bill statement in May, 2005 (NT dollar)\n",
    "BILL_AMT6: Amount of bill statement in April, 2005 (NT dollar)\n",
    "PAY_AMT1: Amount of previous payment in September, 2005 (NT dollar)\n",
    "PAY_AMT2: Amount of previous payment in August, 2005 (NT dollar)\n",
    "PAY_AMT3: Amount of previous payment in July, 2005 (NT dollar)\n",
    "PAY_AMT4: Amount of previous payment in June, 2005 (NT dollar)\n",
    "PAY_AMT5: Amount of previous payment in May, 2005 (NT dollar)\n",
    "PAY_AMT6: Amount of previous payment in April, 2005 (NT dollar)\n",
    "default.payment.next.month: Default payment (1=yes, 0=no)\n",
    "\n",
    "Source: https://www.kaggle.com/uciml/default-of-credit-card-clients-dataset"
   ]
  },
  {
   "cell_type": "markdown",
   "metadata": {},
   "source": [
    "# 2 - Task Solution"
   ]
  },
  {
   "cell_type": "markdown",
   "metadata": {},
   "source": [
    "### 2.1- Cleaning and Pre-processing"
   ]
  },
  {
   "cell_type": "code",
   "execution_count": 34,
   "metadata": {},
   "outputs": [],
   "source": [
    "# Import Libraries\n",
    "import numpy as np\n",
    "import pandas as pd\n",
    "from pandas import Series, DataFrame\n",
    "import matplotlib as mpl\n",
    "import matplotlib.pyplot as plt\n",
    "import seaborn as sns\n",
    "from IPython.display import display\n",
    "import random\n",
    "%matplotlib inline\n",
    "import scipy\n",
    "from math import sqrt\n",
    "from sklearn.preprocessing import StandardScaler\n",
    "from sklearn.feature_selection import RFE\n",
    "from sklearn.model_selection import train_test_split\n",
    "from sklearn.ensemble import RandomForestClassifier\n",
    "from sklearn.linear_model import LogisticRegression\n",
    "from sklearn.model_selection import KFold\n",
    "from sklearn.model_selection import cross_val_score\n",
    "from sklearn.tree import DecisionTreeClassifier\n",
    "from sklearn.neighbors import KNeighborsClassifier\n",
    "from sklearn.naive_bayes import GaussianNB\n",
    "from sklearn.svm import SVC\n",
    "from sklearn.ensemble import GradientBoostingClassifier\n",
    "from sklearn.tree import DecisionTreeClassifier\n",
    "from sklearn.ensemble import VotingClassifier\n",
    "from sklearn.ensemble import RandomForestClassifier\n",
    "from sklearn.ensemble import ExtraTreesClassifier\n",
    "from sklearn.ensemble import BaggingClassifier\n",
    "from sklearn.tree import DecisionTreeClassifier\n",
    "from sklearn.model_selection import GridSearchCV\n",
    "from sklearn.model_selection import RandomizedSearchCV\n",
    "from sklearn.metrics import classification_report\n",
    "from pickle import dump\n",
    "from pickle import load"
   ]
  },
  {
   "cell_type": "code",
   "execution_count": 3,
   "metadata": {},
   "outputs": [
    {
     "data": {
      "text/html": [
       "<div>\n",
       "<style scoped>\n",
       "    .dataframe tbody tr th:only-of-type {\n",
       "        vertical-align: middle;\n",
       "    }\n",
       "\n",
       "    .dataframe tbody tr th {\n",
       "        vertical-align: top;\n",
       "    }\n",
       "\n",
       "    .dataframe thead th {\n",
       "        text-align: right;\n",
       "    }\n",
       "</style>\n",
       "<table border=\"1\" class=\"dataframe\">\n",
       "  <thead>\n",
       "    <tr style=\"text-align: right;\">\n",
       "      <th></th>\n",
       "      <th>LIMIT_BAL</th>\n",
       "      <th>SEX</th>\n",
       "      <th>EDUCATION</th>\n",
       "      <th>MARRIAGE</th>\n",
       "      <th>AGE</th>\n",
       "      <th>PAY_0</th>\n",
       "      <th>PAY_2</th>\n",
       "      <th>PAY_3</th>\n",
       "      <th>PAY_4</th>\n",
       "      <th>PAY_5</th>\n",
       "      <th>...</th>\n",
       "      <th>BILL_AMT4</th>\n",
       "      <th>BILL_AMT5</th>\n",
       "      <th>BILL_AMT6</th>\n",
       "      <th>PAY_AMT1</th>\n",
       "      <th>PAY_AMT2</th>\n",
       "      <th>PAY_AMT3</th>\n",
       "      <th>PAY_AMT4</th>\n",
       "      <th>PAY_AMT5</th>\n",
       "      <th>PAY_AMT6</th>\n",
       "      <th>default payment next month</th>\n",
       "    </tr>\n",
       "    <tr>\n",
       "      <th>ID</th>\n",
       "      <th></th>\n",
       "      <th></th>\n",
       "      <th></th>\n",
       "      <th></th>\n",
       "      <th></th>\n",
       "      <th></th>\n",
       "      <th></th>\n",
       "      <th></th>\n",
       "      <th></th>\n",
       "      <th></th>\n",
       "      <th></th>\n",
       "      <th></th>\n",
       "      <th></th>\n",
       "      <th></th>\n",
       "      <th></th>\n",
       "      <th></th>\n",
       "      <th></th>\n",
       "      <th></th>\n",
       "      <th></th>\n",
       "      <th></th>\n",
       "      <th></th>\n",
       "    </tr>\n",
       "  </thead>\n",
       "  <tbody>\n",
       "    <tr>\n",
       "      <td>1</td>\n",
       "      <td>20000</td>\n",
       "      <td>2</td>\n",
       "      <td>2</td>\n",
       "      <td>1</td>\n",
       "      <td>24</td>\n",
       "      <td>2</td>\n",
       "      <td>2</td>\n",
       "      <td>-1</td>\n",
       "      <td>-1</td>\n",
       "      <td>-2</td>\n",
       "      <td>...</td>\n",
       "      <td>0</td>\n",
       "      <td>0</td>\n",
       "      <td>0</td>\n",
       "      <td>0</td>\n",
       "      <td>689</td>\n",
       "      <td>0</td>\n",
       "      <td>0</td>\n",
       "      <td>0</td>\n",
       "      <td>0</td>\n",
       "      <td>1</td>\n",
       "    </tr>\n",
       "    <tr>\n",
       "      <td>2</td>\n",
       "      <td>120000</td>\n",
       "      <td>2</td>\n",
       "      <td>2</td>\n",
       "      <td>2</td>\n",
       "      <td>26</td>\n",
       "      <td>-1</td>\n",
       "      <td>2</td>\n",
       "      <td>0</td>\n",
       "      <td>0</td>\n",
       "      <td>0</td>\n",
       "      <td>...</td>\n",
       "      <td>3272</td>\n",
       "      <td>3455</td>\n",
       "      <td>3261</td>\n",
       "      <td>0</td>\n",
       "      <td>1000</td>\n",
       "      <td>1000</td>\n",
       "      <td>1000</td>\n",
       "      <td>0</td>\n",
       "      <td>2000</td>\n",
       "      <td>1</td>\n",
       "    </tr>\n",
       "    <tr>\n",
       "      <td>3</td>\n",
       "      <td>90000</td>\n",
       "      <td>2</td>\n",
       "      <td>2</td>\n",
       "      <td>2</td>\n",
       "      <td>34</td>\n",
       "      <td>0</td>\n",
       "      <td>0</td>\n",
       "      <td>0</td>\n",
       "      <td>0</td>\n",
       "      <td>0</td>\n",
       "      <td>...</td>\n",
       "      <td>14331</td>\n",
       "      <td>14948</td>\n",
       "      <td>15549</td>\n",
       "      <td>1518</td>\n",
       "      <td>1500</td>\n",
       "      <td>1000</td>\n",
       "      <td>1000</td>\n",
       "      <td>1000</td>\n",
       "      <td>5000</td>\n",
       "      <td>0</td>\n",
       "    </tr>\n",
       "    <tr>\n",
       "      <td>4</td>\n",
       "      <td>50000</td>\n",
       "      <td>2</td>\n",
       "      <td>2</td>\n",
       "      <td>1</td>\n",
       "      <td>37</td>\n",
       "      <td>0</td>\n",
       "      <td>0</td>\n",
       "      <td>0</td>\n",
       "      <td>0</td>\n",
       "      <td>0</td>\n",
       "      <td>...</td>\n",
       "      <td>28314</td>\n",
       "      <td>28959</td>\n",
       "      <td>29547</td>\n",
       "      <td>2000</td>\n",
       "      <td>2019</td>\n",
       "      <td>1200</td>\n",
       "      <td>1100</td>\n",
       "      <td>1069</td>\n",
       "      <td>1000</td>\n",
       "      <td>0</td>\n",
       "    </tr>\n",
       "    <tr>\n",
       "      <td>5</td>\n",
       "      <td>50000</td>\n",
       "      <td>1</td>\n",
       "      <td>2</td>\n",
       "      <td>1</td>\n",
       "      <td>57</td>\n",
       "      <td>-1</td>\n",
       "      <td>0</td>\n",
       "      <td>-1</td>\n",
       "      <td>0</td>\n",
       "      <td>0</td>\n",
       "      <td>...</td>\n",
       "      <td>20940</td>\n",
       "      <td>19146</td>\n",
       "      <td>19131</td>\n",
       "      <td>2000</td>\n",
       "      <td>36681</td>\n",
       "      <td>10000</td>\n",
       "      <td>9000</td>\n",
       "      <td>689</td>\n",
       "      <td>679</td>\n",
       "      <td>0</td>\n",
       "    </tr>\n",
       "  </tbody>\n",
       "</table>\n",
       "<p>5 rows × 24 columns</p>\n",
       "</div>"
      ],
      "text/plain": [
       "    LIMIT_BAL  SEX  EDUCATION  MARRIAGE  AGE  PAY_0  PAY_2  PAY_3  PAY_4  \\\n",
       "ID                                                                         \n",
       "1       20000    2          2         1   24      2      2     -1     -1   \n",
       "2      120000    2          2         2   26     -1      2      0      0   \n",
       "3       90000    2          2         2   34      0      0      0      0   \n",
       "4       50000    2          2         1   37      0      0      0      0   \n",
       "5       50000    1          2         1   57     -1      0     -1      0   \n",
       "\n",
       "    PAY_5  ...  BILL_AMT4  BILL_AMT5  BILL_AMT6  PAY_AMT1  PAY_AMT2  PAY_AMT3  \\\n",
       "ID         ...                                                                  \n",
       "1      -2  ...          0          0          0         0       689         0   \n",
       "2       0  ...       3272       3455       3261         0      1000      1000   \n",
       "3       0  ...      14331      14948      15549      1518      1500      1000   \n",
       "4       0  ...      28314      28959      29547      2000      2019      1200   \n",
       "5       0  ...      20940      19146      19131      2000     36681     10000   \n",
       "\n",
       "    PAY_AMT4  PAY_AMT5  PAY_AMT6  default payment next month  \n",
       "ID                                                            \n",
       "1          0         0         0                           1  \n",
       "2       1000         0      2000                           1  \n",
       "3       1000      1000      5000                           0  \n",
       "4       1100      1069      1000                           0  \n",
       "5       9000       689       679                           0  \n",
       "\n",
       "[5 rows x 24 columns]"
      ]
     },
     "execution_count": 3,
     "metadata": {},
     "output_type": "execute_result"
    }
   ],
   "source": [
    "credit = pd.read_csv(r'C:\\Users\\smele\\Documents\\XTOL Big Data\\Module 5\\Task 2 - Prepare and Explore the Data\\default of credit card clients.csv', index_col=0, header =1)\n",
    "credit.head()"
   ]
  },
  {
   "cell_type": "code",
   "execution_count": 4,
   "metadata": {},
   "outputs": [
    {
     "data": {
      "text/html": [
       "<div>\n",
       "<style scoped>\n",
       "    .dataframe tbody tr th:only-of-type {\n",
       "        vertical-align: middle;\n",
       "    }\n",
       "\n",
       "    .dataframe tbody tr th {\n",
       "        vertical-align: top;\n",
       "    }\n",
       "\n",
       "    .dataframe thead th {\n",
       "        text-align: right;\n",
       "    }\n",
       "</style>\n",
       "<table border=\"1\" class=\"dataframe\">\n",
       "  <thead>\n",
       "    <tr style=\"text-align: right;\">\n",
       "      <th></th>\n",
       "      <th>LIMIT_BAL</th>\n",
       "      <th>SEX</th>\n",
       "      <th>EDUCATION</th>\n",
       "      <th>MARRIAGE</th>\n",
       "      <th>AGE</th>\n",
       "      <th>PAY_0</th>\n",
       "      <th>PAY_2</th>\n",
       "      <th>PAY_3</th>\n",
       "      <th>PAY_4</th>\n",
       "      <th>PAY_5</th>\n",
       "      <th>...</th>\n",
       "      <th>BILL_AMT4</th>\n",
       "      <th>BILL_AMT5</th>\n",
       "      <th>BILL_AMT6</th>\n",
       "      <th>PAY_AMT1</th>\n",
       "      <th>PAY_AMT2</th>\n",
       "      <th>PAY_AMT3</th>\n",
       "      <th>PAY_AMT4</th>\n",
       "      <th>PAY_AMT5</th>\n",
       "      <th>PAY_AMT6</th>\n",
       "      <th>default payment next month</th>\n",
       "    </tr>\n",
       "  </thead>\n",
       "  <tbody>\n",
       "    <tr>\n",
       "      <td>count</td>\n",
       "      <td>30000.000000</td>\n",
       "      <td>30000.000000</td>\n",
       "      <td>30000.000000</td>\n",
       "      <td>30000.000000</td>\n",
       "      <td>30000.000000</td>\n",
       "      <td>30000.000000</td>\n",
       "      <td>30000.000000</td>\n",
       "      <td>30000.000000</td>\n",
       "      <td>30000.000000</td>\n",
       "      <td>30000.000000</td>\n",
       "      <td>...</td>\n",
       "      <td>30000.000000</td>\n",
       "      <td>30000.000000</td>\n",
       "      <td>30000.000000</td>\n",
       "      <td>30000.000000</td>\n",
       "      <td>3.000000e+04</td>\n",
       "      <td>30000.00000</td>\n",
       "      <td>30000.000000</td>\n",
       "      <td>30000.000000</td>\n",
       "      <td>30000.000000</td>\n",
       "      <td>30000.000000</td>\n",
       "    </tr>\n",
       "    <tr>\n",
       "      <td>mean</td>\n",
       "      <td>167484.322667</td>\n",
       "      <td>1.603733</td>\n",
       "      <td>1.853133</td>\n",
       "      <td>1.551867</td>\n",
       "      <td>35.485500</td>\n",
       "      <td>-0.016700</td>\n",
       "      <td>-0.133767</td>\n",
       "      <td>-0.166200</td>\n",
       "      <td>-0.220667</td>\n",
       "      <td>-0.266200</td>\n",
       "      <td>...</td>\n",
       "      <td>43262.948967</td>\n",
       "      <td>40311.400967</td>\n",
       "      <td>38871.760400</td>\n",
       "      <td>5663.580500</td>\n",
       "      <td>5.921163e+03</td>\n",
       "      <td>5225.68150</td>\n",
       "      <td>4826.076867</td>\n",
       "      <td>4799.387633</td>\n",
       "      <td>5215.502567</td>\n",
       "      <td>0.221200</td>\n",
       "    </tr>\n",
       "    <tr>\n",
       "      <td>std</td>\n",
       "      <td>129747.661567</td>\n",
       "      <td>0.489129</td>\n",
       "      <td>0.790349</td>\n",
       "      <td>0.521970</td>\n",
       "      <td>9.217904</td>\n",
       "      <td>1.123802</td>\n",
       "      <td>1.197186</td>\n",
       "      <td>1.196868</td>\n",
       "      <td>1.169139</td>\n",
       "      <td>1.133187</td>\n",
       "      <td>...</td>\n",
       "      <td>64332.856134</td>\n",
       "      <td>60797.155770</td>\n",
       "      <td>59554.107537</td>\n",
       "      <td>16563.280354</td>\n",
       "      <td>2.304087e+04</td>\n",
       "      <td>17606.96147</td>\n",
       "      <td>15666.159744</td>\n",
       "      <td>15278.305679</td>\n",
       "      <td>17777.465775</td>\n",
       "      <td>0.415062</td>\n",
       "    </tr>\n",
       "    <tr>\n",
       "      <td>min</td>\n",
       "      <td>10000.000000</td>\n",
       "      <td>1.000000</td>\n",
       "      <td>0.000000</td>\n",
       "      <td>0.000000</td>\n",
       "      <td>21.000000</td>\n",
       "      <td>-2.000000</td>\n",
       "      <td>-2.000000</td>\n",
       "      <td>-2.000000</td>\n",
       "      <td>-2.000000</td>\n",
       "      <td>-2.000000</td>\n",
       "      <td>...</td>\n",
       "      <td>-170000.000000</td>\n",
       "      <td>-81334.000000</td>\n",
       "      <td>-339603.000000</td>\n",
       "      <td>0.000000</td>\n",
       "      <td>0.000000e+00</td>\n",
       "      <td>0.00000</td>\n",
       "      <td>0.000000</td>\n",
       "      <td>0.000000</td>\n",
       "      <td>0.000000</td>\n",
       "      <td>0.000000</td>\n",
       "    </tr>\n",
       "    <tr>\n",
       "      <td>25%</td>\n",
       "      <td>50000.000000</td>\n",
       "      <td>1.000000</td>\n",
       "      <td>1.000000</td>\n",
       "      <td>1.000000</td>\n",
       "      <td>28.000000</td>\n",
       "      <td>-1.000000</td>\n",
       "      <td>-1.000000</td>\n",
       "      <td>-1.000000</td>\n",
       "      <td>-1.000000</td>\n",
       "      <td>-1.000000</td>\n",
       "      <td>...</td>\n",
       "      <td>2326.750000</td>\n",
       "      <td>1763.000000</td>\n",
       "      <td>1256.000000</td>\n",
       "      <td>1000.000000</td>\n",
       "      <td>8.330000e+02</td>\n",
       "      <td>390.00000</td>\n",
       "      <td>296.000000</td>\n",
       "      <td>252.500000</td>\n",
       "      <td>117.750000</td>\n",
       "      <td>0.000000</td>\n",
       "    </tr>\n",
       "    <tr>\n",
       "      <td>50%</td>\n",
       "      <td>140000.000000</td>\n",
       "      <td>2.000000</td>\n",
       "      <td>2.000000</td>\n",
       "      <td>2.000000</td>\n",
       "      <td>34.000000</td>\n",
       "      <td>0.000000</td>\n",
       "      <td>0.000000</td>\n",
       "      <td>0.000000</td>\n",
       "      <td>0.000000</td>\n",
       "      <td>0.000000</td>\n",
       "      <td>...</td>\n",
       "      <td>19052.000000</td>\n",
       "      <td>18104.500000</td>\n",
       "      <td>17071.000000</td>\n",
       "      <td>2100.000000</td>\n",
       "      <td>2.009000e+03</td>\n",
       "      <td>1800.00000</td>\n",
       "      <td>1500.000000</td>\n",
       "      <td>1500.000000</td>\n",
       "      <td>1500.000000</td>\n",
       "      <td>0.000000</td>\n",
       "    </tr>\n",
       "    <tr>\n",
       "      <td>75%</td>\n",
       "      <td>240000.000000</td>\n",
       "      <td>2.000000</td>\n",
       "      <td>2.000000</td>\n",
       "      <td>2.000000</td>\n",
       "      <td>41.000000</td>\n",
       "      <td>0.000000</td>\n",
       "      <td>0.000000</td>\n",
       "      <td>0.000000</td>\n",
       "      <td>0.000000</td>\n",
       "      <td>0.000000</td>\n",
       "      <td>...</td>\n",
       "      <td>54506.000000</td>\n",
       "      <td>50190.500000</td>\n",
       "      <td>49198.250000</td>\n",
       "      <td>5006.000000</td>\n",
       "      <td>5.000000e+03</td>\n",
       "      <td>4505.00000</td>\n",
       "      <td>4013.250000</td>\n",
       "      <td>4031.500000</td>\n",
       "      <td>4000.000000</td>\n",
       "      <td>0.000000</td>\n",
       "    </tr>\n",
       "    <tr>\n",
       "      <td>max</td>\n",
       "      <td>1000000.000000</td>\n",
       "      <td>2.000000</td>\n",
       "      <td>6.000000</td>\n",
       "      <td>3.000000</td>\n",
       "      <td>79.000000</td>\n",
       "      <td>8.000000</td>\n",
       "      <td>8.000000</td>\n",
       "      <td>8.000000</td>\n",
       "      <td>8.000000</td>\n",
       "      <td>8.000000</td>\n",
       "      <td>...</td>\n",
       "      <td>891586.000000</td>\n",
       "      <td>927171.000000</td>\n",
       "      <td>961664.000000</td>\n",
       "      <td>873552.000000</td>\n",
       "      <td>1.684259e+06</td>\n",
       "      <td>896040.00000</td>\n",
       "      <td>621000.000000</td>\n",
       "      <td>426529.000000</td>\n",
       "      <td>528666.000000</td>\n",
       "      <td>1.000000</td>\n",
       "    </tr>\n",
       "  </tbody>\n",
       "</table>\n",
       "<p>8 rows × 24 columns</p>\n",
       "</div>"
      ],
      "text/plain": [
       "            LIMIT_BAL           SEX     EDUCATION      MARRIAGE           AGE  \\\n",
       "count    30000.000000  30000.000000  30000.000000  30000.000000  30000.000000   \n",
       "mean    167484.322667      1.603733      1.853133      1.551867     35.485500   \n",
       "std     129747.661567      0.489129      0.790349      0.521970      9.217904   \n",
       "min      10000.000000      1.000000      0.000000      0.000000     21.000000   \n",
       "25%      50000.000000      1.000000      1.000000      1.000000     28.000000   \n",
       "50%     140000.000000      2.000000      2.000000      2.000000     34.000000   \n",
       "75%     240000.000000      2.000000      2.000000      2.000000     41.000000   \n",
       "max    1000000.000000      2.000000      6.000000      3.000000     79.000000   \n",
       "\n",
       "              PAY_0         PAY_2         PAY_3         PAY_4         PAY_5  \\\n",
       "count  30000.000000  30000.000000  30000.000000  30000.000000  30000.000000   \n",
       "mean      -0.016700     -0.133767     -0.166200     -0.220667     -0.266200   \n",
       "std        1.123802      1.197186      1.196868      1.169139      1.133187   \n",
       "min       -2.000000     -2.000000     -2.000000     -2.000000     -2.000000   \n",
       "25%       -1.000000     -1.000000     -1.000000     -1.000000     -1.000000   \n",
       "50%        0.000000      0.000000      0.000000      0.000000      0.000000   \n",
       "75%        0.000000      0.000000      0.000000      0.000000      0.000000   \n",
       "max        8.000000      8.000000      8.000000      8.000000      8.000000   \n",
       "\n",
       "       ...      BILL_AMT4      BILL_AMT5      BILL_AMT6       PAY_AMT1  \\\n",
       "count  ...   30000.000000   30000.000000   30000.000000   30000.000000   \n",
       "mean   ...   43262.948967   40311.400967   38871.760400    5663.580500   \n",
       "std    ...   64332.856134   60797.155770   59554.107537   16563.280354   \n",
       "min    ... -170000.000000  -81334.000000 -339603.000000       0.000000   \n",
       "25%    ...    2326.750000    1763.000000    1256.000000    1000.000000   \n",
       "50%    ...   19052.000000   18104.500000   17071.000000    2100.000000   \n",
       "75%    ...   54506.000000   50190.500000   49198.250000    5006.000000   \n",
       "max    ...  891586.000000  927171.000000  961664.000000  873552.000000   \n",
       "\n",
       "           PAY_AMT2      PAY_AMT3       PAY_AMT4       PAY_AMT5  \\\n",
       "count  3.000000e+04   30000.00000   30000.000000   30000.000000   \n",
       "mean   5.921163e+03    5225.68150    4826.076867    4799.387633   \n",
       "std    2.304087e+04   17606.96147   15666.159744   15278.305679   \n",
       "min    0.000000e+00       0.00000       0.000000       0.000000   \n",
       "25%    8.330000e+02     390.00000     296.000000     252.500000   \n",
       "50%    2.009000e+03    1800.00000    1500.000000    1500.000000   \n",
       "75%    5.000000e+03    4505.00000    4013.250000    4031.500000   \n",
       "max    1.684259e+06  896040.00000  621000.000000  426529.000000   \n",
       "\n",
       "            PAY_AMT6  default payment next month  \n",
       "count   30000.000000                30000.000000  \n",
       "mean     5215.502567                    0.221200  \n",
       "std     17777.465775                    0.415062  \n",
       "min         0.000000                    0.000000  \n",
       "25%       117.750000                    0.000000  \n",
       "50%      1500.000000                    0.000000  \n",
       "75%      4000.000000                    0.000000  \n",
       "max    528666.000000                    1.000000  \n",
       "\n",
       "[8 rows x 24 columns]"
      ]
     },
     "execution_count": 4,
     "metadata": {},
     "output_type": "execute_result"
    }
   ],
   "source": [
    "credit.describe()"
   ]
  },
  {
   "cell_type": "code",
   "execution_count": 5,
   "metadata": {},
   "outputs": [
    {
     "name": "stdout",
     "output_type": "stream",
     "text": [
      "<class 'pandas.core.frame.DataFrame'>\n",
      "Int64Index: 30000 entries, 1 to 30000\n",
      "Data columns (total 24 columns):\n",
      "LIMIT_BAL                     30000 non-null int64\n",
      "SEX                           30000 non-null int64\n",
      "EDUCATION                     30000 non-null int64\n",
      "MARRIAGE                      30000 non-null int64\n",
      "AGE                           30000 non-null int64\n",
      "PAY_0                         30000 non-null int64\n",
      "PAY_2                         30000 non-null int64\n",
      "PAY_3                         30000 non-null int64\n",
      "PAY_4                         30000 non-null int64\n",
      "PAY_5                         30000 non-null int64\n",
      "PAY_6                         30000 non-null int64\n",
      "BILL_AMT1                     30000 non-null int64\n",
      "BILL_AMT2                     30000 non-null int64\n",
      "BILL_AMT3                     30000 non-null int64\n",
      "BILL_AMT4                     30000 non-null int64\n",
      "BILL_AMT5                     30000 non-null int64\n",
      "BILL_AMT6                     30000 non-null int64\n",
      "PAY_AMT1                      30000 non-null int64\n",
      "PAY_AMT2                      30000 non-null int64\n",
      "PAY_AMT3                      30000 non-null int64\n",
      "PAY_AMT4                      30000 non-null int64\n",
      "PAY_AMT5                      30000 non-null int64\n",
      "PAY_AMT6                      30000 non-null int64\n",
      "default payment next month    30000 non-null int64\n",
      "dtypes: int64(24)\n",
      "memory usage: 5.7 MB\n"
     ]
    }
   ],
   "source": [
    "credit.info()"
   ]
  },
  {
   "cell_type": "code",
   "execution_count": 6,
   "metadata": {},
   "outputs": [],
   "source": [
    "# change variable types\n",
    "credit['SEX'] = credit['SEX'].astype('category')\n",
    "credit['EDUCATION'] = credit['EDUCATION'].astype('category')\n",
    "credit['MARRIAGE'] = credit['MARRIAGE'].astype('category')\n",
    "credit['PAY_0'] = credit['PAY_0'].astype('category')\n",
    "credit['PAY_2'] = credit['PAY_2'].astype('category')\n",
    "credit['PAY_3'] = credit['PAY_3'].astype('category')\n",
    "credit['PAY_4'] = credit['PAY_4'].astype('category')\n",
    "credit['PAY_5'] = credit['PAY_5'].astype('category')\n",
    "credit['PAY_6'] = credit['PAY_6'].astype('category')\n",
    "credit['default payment next month'] = credit['default payment next month'].astype('category')"
   ]
  },
  {
   "cell_type": "code",
   "execution_count": 7,
   "metadata": {},
   "outputs": [
    {
     "name": "stdout",
     "output_type": "stream",
     "text": [
      "<class 'pandas.core.frame.DataFrame'>\n",
      "Int64Index: 30000 entries, 1 to 30000\n",
      "Data columns (total 24 columns):\n",
      "LIMIT_BAL                     30000 non-null int64\n",
      "SEX                           30000 non-null category\n",
      "EDUCATION                     30000 non-null category\n",
      "MARRIAGE                      30000 non-null category\n",
      "AGE                           30000 non-null int64\n",
      "PAY_0                         30000 non-null category\n",
      "PAY_2                         30000 non-null category\n",
      "PAY_3                         30000 non-null category\n",
      "PAY_4                         30000 non-null category\n",
      "PAY_5                         30000 non-null category\n",
      "PAY_6                         30000 non-null category\n",
      "BILL_AMT1                     30000 non-null int64\n",
      "BILL_AMT2                     30000 non-null int64\n",
      "BILL_AMT3                     30000 non-null int64\n",
      "BILL_AMT4                     30000 non-null int64\n",
      "BILL_AMT5                     30000 non-null int64\n",
      "BILL_AMT6                     30000 non-null int64\n",
      "PAY_AMT1                      30000 non-null int64\n",
      "PAY_AMT2                      30000 non-null int64\n",
      "PAY_AMT3                      30000 non-null int64\n",
      "PAY_AMT4                      30000 non-null int64\n",
      "PAY_AMT5                      30000 non-null int64\n",
      "PAY_AMT6                      30000 non-null int64\n",
      "default payment next month    30000 non-null category\n",
      "dtypes: category(10), int64(14)\n",
      "memory usage: 3.7 MB\n"
     ]
    }
   ],
   "source": [
    "credit.info()"
   ]
  },
  {
   "cell_type": "code",
   "execution_count": 8,
   "metadata": {},
   "outputs": [
    {
     "data": {
      "text/plain": [
       "(30000, 24)"
      ]
     },
     "execution_count": 8,
     "metadata": {},
     "output_type": "execute_result"
    }
   ],
   "source": [
    "credit.shape"
   ]
  },
  {
   "cell_type": "code",
   "execution_count": 9,
   "metadata": {},
   "outputs": [
    {
     "name": "stdout",
     "output_type": "stream",
     "text": [
      "Index(['LIMIT_BAL', 'SEX', 'EDUCATION', 'MARRIAGE', 'AGE', 'PAY_0', 'PAY_2',\n",
      "       'PAY_3', 'PAY_4', 'PAY_5', 'PAY_6', 'BILL_AMT1', 'BILL_AMT2',\n",
      "       'BILL_AMT3', 'BILL_AMT4', 'BILL_AMT5', 'BILL_AMT6', 'PAY_AMT1',\n",
      "       'PAY_AMT2', 'PAY_AMT3', 'PAY_AMT4', 'PAY_AMT5', 'PAY_AMT6',\n",
      "       'default payment next month'],\n",
      "      dtype='object')\n"
     ]
    }
   ],
   "source": [
    "header = credit.dtypes.index\n",
    "print(header)"
   ]
  },
  {
   "cell_type": "markdown",
   "metadata": {},
   "source": [
    "### 2.2 - Covariance Estimation\n"
   ]
  },
  {
   "cell_type": "code",
   "execution_count": 10,
   "metadata": {},
   "outputs": [
    {
     "name": "stdout",
     "output_type": "stream",
     "text": [
      "           LIMIT_BAL       AGE  BILL_AMT1  BILL_AMT2  BILL_AMT3  BILL_AMT4  \\\n",
      "LIMIT_BAL   1.000000  0.144713   0.285430   0.278314   0.283236   0.293988   \n",
      "AGE         0.144713  1.000000   0.056239   0.054283   0.053710   0.051353   \n",
      "BILL_AMT1   0.285430  0.056239   1.000000   0.951484   0.892279   0.860272   \n",
      "BILL_AMT2   0.278314  0.054283   0.951484   1.000000   0.928326   0.892482   \n",
      "BILL_AMT3   0.283236  0.053710   0.892279   0.928326   1.000000   0.923969   \n",
      "BILL_AMT4   0.293988  0.051353   0.860272   0.892482   0.923969   1.000000   \n",
      "BILL_AMT5   0.295562  0.049345   0.829779   0.859778   0.883910   0.940134   \n",
      "BILL_AMT6   0.290389  0.047613   0.802650   0.831594   0.853320   0.900941   \n",
      "PAY_AMT1    0.195236  0.026147   0.140277   0.280365   0.244335   0.233012   \n",
      "PAY_AMT2    0.178408  0.021785   0.099355   0.100851   0.316936   0.207564   \n",
      "PAY_AMT3    0.210167  0.029247   0.156887   0.150718   0.130011   0.300023   \n",
      "PAY_AMT4    0.203242  0.021379   0.158303   0.147398   0.143405   0.130191   \n",
      "PAY_AMT5    0.217202  0.022850   0.167026   0.157957   0.179712   0.160433   \n",
      "PAY_AMT6    0.219595  0.019478   0.179341   0.174256   0.182326   0.177637   \n",
      "\n",
      "           BILL_AMT5  BILL_AMT6  PAY_AMT1  PAY_AMT2  PAY_AMT3  PAY_AMT4  \\\n",
      "LIMIT_BAL   0.295562   0.290389  0.195236  0.178408  0.210167  0.203242   \n",
      "AGE         0.049345   0.047613  0.026147  0.021785  0.029247  0.021379   \n",
      "BILL_AMT1   0.829779   0.802650  0.140277  0.099355  0.156887  0.158303   \n",
      "BILL_AMT2   0.859778   0.831594  0.280365  0.100851  0.150718  0.147398   \n",
      "BILL_AMT3   0.883910   0.853320  0.244335  0.316936  0.130011  0.143405   \n",
      "BILL_AMT4   0.940134   0.900941  0.233012  0.207564  0.300023  0.130191   \n",
      "BILL_AMT5   1.000000   0.946197  0.217031  0.181246  0.252305  0.293118   \n",
      "BILL_AMT6   0.946197   1.000000  0.199965  0.172663  0.233770  0.250237   \n",
      "PAY_AMT1    0.217031   0.199965  1.000000  0.285576  0.252191  0.199558   \n",
      "PAY_AMT2    0.181246   0.172663  0.285576  1.000000  0.244770  0.180107   \n",
      "PAY_AMT3    0.252305   0.233770  0.252191  0.244770  1.000000  0.216325   \n",
      "PAY_AMT4    0.293118   0.250237  0.199558  0.180107  0.216325  1.000000   \n",
      "PAY_AMT5    0.141574   0.307729  0.148459  0.180908  0.159214  0.151830   \n",
      "PAY_AMT6    0.164184   0.115494  0.185735  0.157634  0.162740  0.157834   \n",
      "\n",
      "           PAY_AMT5  PAY_AMT6  \n",
      "LIMIT_BAL  0.217202  0.219595  \n",
      "AGE        0.022850  0.019478  \n",
      "BILL_AMT1  0.167026  0.179341  \n",
      "BILL_AMT2  0.157957  0.174256  \n",
      "BILL_AMT3  0.179712  0.182326  \n",
      "BILL_AMT4  0.160433  0.177637  \n",
      "BILL_AMT5  0.141574  0.164184  \n",
      "BILL_AMT6  0.307729  0.115494  \n",
      "PAY_AMT1   0.148459  0.185735  \n",
      "PAY_AMT2   0.180908  0.157634  \n",
      "PAY_AMT3   0.159214  0.162740  \n",
      "PAY_AMT4   0.151830  0.157834  \n",
      "PAY_AMT5   1.000000  0.154896  \n",
      "PAY_AMT6   0.154896  1.000000  \n"
     ]
    }
   ],
   "source": [
    "corrMat = credit.corr()\n",
    "print(corrMat)"
   ]
  },
  {
   "cell_type": "code",
   "execution_count": 11,
   "metadata": {},
   "outputs": [
    {
     "name": "stdout",
     "output_type": "stream",
     "text": [
      "                    AGE     BILL_AMT1     BILL_AMT2     BILL_AMT3  \\\n",
      "AGE           84.969755  3.817293e+04  3.561366e+04  3.433425e+04   \n",
      "BILL_AMT1  38172.933546  5.422240e+09  4.986670e+09  4.556511e+09   \n",
      "BILL_AMT2  35613.657962  4.986670e+09  5.065705e+09  4.582086e+09   \n",
      "BILL_AMT3  34334.251320  4.556511e+09  4.582086e+09  4.809338e+09   \n",
      "BILL_AMT4  30453.108180  4.075286e+09  4.086508e+09  4.122238e+09   \n",
      "BILL_AMT5  27654.067800  3.714795e+09  3.720401e+09  3.726780e+09   \n",
      "BILL_AMT6  26137.648547  3.519876e+09  3.524868e+09  3.524247e+09   \n",
      "PAY_AMT1    3992.041735  1.710894e+08  3.305146e+08  2.806565e+08   \n",
      "PAY_AMT2    4626.861549  1.685692e+08  1.653859e+08  5.064226e+08   \n",
      "PAY_AMT3    4746.824393  2.034048e+08  1.888731e+08  1.587478e+08   \n",
      "PAY_AMT4    3087.324192  1.826164e+08  1.643518e+08  1.558003e+08   \n",
      "PAY_AMT5    3218.052172  1.879091e+08  1.717652e+08  1.904126e+08   \n",
      "PAY_AMT6    3191.903901  2.347681e+08  2.204845e+08  2.247817e+08   \n",
      "\n",
      "              BILL_AMT4     BILL_AMT5     BILL_AMT6      PAY_AMT1  \\\n",
      "AGE        3.045311e+04  2.765407e+04  2.613765e+04  3.992042e+03   \n",
      "BILL_AMT1  4.075286e+09  3.714795e+09  3.519876e+09  1.710894e+08   \n",
      "BILL_AMT2  4.086508e+09  3.720401e+09  3.524868e+09  3.305146e+08   \n",
      "BILL_AMT3  4.122238e+09  3.726780e+09  3.524247e+09  2.806565e+08   \n",
      "BILL_AMT4  4.138716e+09  3.677105e+09  3.451762e+09  2.482888e+08   \n",
      "BILL_AMT5  3.677105e+09  3.696294e+09  3.425914e+09  2.185501e+08   \n",
      "BILL_AMT6  3.451762e+09  3.425914e+09  3.546692e+09  1.972478e+08   \n",
      "PAY_AMT1   2.482888e+08  2.185501e+08  1.972478e+08  2.743423e+08   \n",
      "PAY_AMT2   3.076686e+08  2.538936e+08  2.369244e+08  1.089849e+08   \n",
      "PAY_AMT3   3.398374e+08  2.700805e+08  2.451233e+08  7.354626e+07   \n",
      "PAY_AMT4   1.312133e+08  2.791830e+08  2.334670e+08  5.178189e+07   \n",
      "PAY_AMT5   1.576892e+08  1.315051e+08  2.799982e+08  3.756893e+07   \n",
      "PAY_AMT6   2.031590e+08  1.774537e+08  1.222761e+08  5.469033e+07   \n",
      "\n",
      "               PAY_AMT2      PAY_AMT3      PAY_AMT4      PAY_AMT5  \\\n",
      "AGE        4.626862e+03  4.746824e+03  3.087324e+03  3.218052e+03   \n",
      "BILL_AMT1  1.685692e+08  2.034048e+08  1.826164e+08  1.879091e+08   \n",
      "BILL_AMT2  1.653859e+08  1.888731e+08  1.643518e+08  1.717652e+08   \n",
      "BILL_AMT3  5.064226e+08  1.587478e+08  1.558003e+08  1.904126e+08   \n",
      "BILL_AMT4  3.076686e+08  3.398374e+08  1.312133e+08  1.576892e+08   \n",
      "BILL_AMT5  2.538936e+08  2.700805e+08  2.791830e+08  1.315051e+08   \n",
      "BILL_AMT6  2.369244e+08  2.451233e+08  2.334670e+08  2.799982e+08   \n",
      "PAY_AMT1   1.089849e+08  7.354626e+07  5.178189e+07  3.756893e+07   \n",
      "PAY_AMT2   5.308817e+08  9.929841e+07  6.501168e+07  6.368414e+07   \n",
      "PAY_AMT3   9.929841e+07  3.100051e+08  5.966970e+07  4.282921e+07   \n",
      "PAY_AMT4   6.501168e+07  5.966970e+07  2.454286e+08  3.634098e+07   \n",
      "PAY_AMT5   6.368414e+07  4.282921e+07  3.634098e+07  2.334266e+08   \n",
      "PAY_AMT6   6.456816e+07  5.093879e+07  4.395747e+07  4.207110e+07   \n",
      "\n",
      "               PAY_AMT6  \n",
      "AGE        3.191904e+03  \n",
      "BILL_AMT1  2.347681e+08  \n",
      "BILL_AMT2  2.204845e+08  \n",
      "BILL_AMT3  2.247817e+08  \n",
      "BILL_AMT4  2.031590e+08  \n",
      "BILL_AMT5  1.774537e+08  \n",
      "BILL_AMT6  1.222761e+08  \n",
      "PAY_AMT1   5.469033e+07  \n",
      "PAY_AMT2   6.456816e+07  \n",
      "PAY_AMT3   5.093879e+07  \n",
      "PAY_AMT4   4.395747e+07  \n",
      "PAY_AMT5   4.207110e+07  \n",
      "PAY_AMT6   3.160383e+08  \n"
     ]
    }
   ],
   "source": [
    "covMat = credit.iloc[:,1:25].cov()\n",
    "print(covMat)"
   ]
  },
  {
   "cell_type": "markdown",
   "metadata": {},
   "source": [
    "### 2.3 - EDA\n"
   ]
  },
  {
   "cell_type": "code",
   "execution_count": 12,
   "metadata": {},
   "outputs": [
    {
     "data": {
      "image/png": "[encoded data removed]",
      "text/plain": [
       "<Figure size 432x288 with 1 Axes>"
      ]
     },
     "metadata": {
      "needs_background": "light"
     },
     "output_type": "display_data"
    }
   ],
   "source": [
    "plt.hist(credit['LIMIT_BAL'], bins=4)\n",
    "plt.xlabel('Given Credit (NTD dollars)')\n",
    "plt.ylabel('Frequency')\n",
    "plt.title('Given Credit Distribution')\n",
    "plt.show()"
   ]
  },
  {
   "cell_type": "code",
   "execution_count": 13,
   "metadata": {},
   "outputs": [
    {
     "data": {
      "image/png": "[encoded data removed]",
      "text/plain": [
       "<Figure size 432x288 with 1 Axes>"
      ]
     },
     "metadata": {
      "needs_background": "light"
     },
     "output_type": "display_data"
    }
   ],
   "source": [
    "plt.plot(credit['LIMIT_BAL'])\n",
    "plt.show()"
   ]
  },
  {
   "cell_type": "code",
   "execution_count": 16,
   "metadata": {},
   "outputs": [
    {
     "data": {
      "text/plain": [
       "<seaborn.axisgrid.FacetGrid at 0x13ddad55648>"
      ]
     },
     "execution_count": 16,
     "metadata": {},
     "output_type": "execute_result"
    },
    {
     "data": {
      "image/png": "[encoded data removed]",
      "text/plain": [
       "<Figure size 540x360 with 1 Axes>"
      ]
     },
     "metadata": {
      "needs_background": "light"
     },
     "output_type": "display_data"
    }
   ],
   "source": [
    "# Plot the number of males and females\n",
    "sns.catplot('SEX', data=credit, kind='count', aspect=1.5)"
   ]
  },
  {
   "cell_type": "code",
   "execution_count": 15,
   "metadata": {},
   "outputs": [
    {
     "name": "stderr",
     "output_type": "stream",
     "text": [
      "C:\\Users\\smele\\Anaconda3\\lib\\site-packages\\seaborn\\categorical.py:3666: UserWarning: The `factorplot` function has been renamed to `catplot`. The original name will be removed in a future release. Please update your code. Note that the default `kind` in `factorplot` (`'point'`) has changed `'strip'` in `catplot`.\n",
      "  warnings.warn(msg)\n"
     ]
    },
    {
     "data": {
      "text/plain": [
       "<seaborn.axisgrid.FacetGrid at 0x13dd9866d08>"
      ]
     },
     "execution_count": 15,
     "metadata": {},
     "output_type": "execute_result"
    },
    {
     "data": {
      "image/png": "[encoded data removed]",
      "text/plain": [
       "<Figure size 540x360 with 1 Axes>"
      ]
     },
     "metadata": {
      "needs_background": "light"
     },
     "output_type": "display_data"
    }
   ],
   "source": [
    "# Plot the number of different levels of education\n",
    "sns.factorplot('EDUCATION', data=credit, kind='count', aspect=1.5)"
   ]
  },
  {
   "cell_type": "code",
   "execution_count": 17,
   "metadata": {},
   "outputs": [
    {
     "data": {
      "text/plain": [
       "<seaborn.axisgrid.FacetGrid at 0x13ddb61c7c8>"
      ]
     },
     "execution_count": 17,
     "metadata": {},
     "output_type": "execute_result"
    },
    {
     "data": {
      "image/png": "[encoded data removed]",
      "text/plain": [
       "<Figure size 672.375x360 with 1 Axes>"
      ]
     },
     "metadata": {
      "needs_background": "light"
     },
     "output_type": "display_data"
    }
   ],
   "source": [
    "# Plot group by Sex and education\n",
    "sns.factorplot('EDUCATION', data=credit, hue='SEX', kind='count', aspect=1.75)"
   ]
  },
  {
   "cell_type": "code",
   "execution_count": 18,
   "metadata": {},
   "outputs": [],
   "source": [
    "default = credit[credit['default payment next month']==1]\n",
    "not_default = credit[credit['default payment next month']==0]"
   ]
  },
  {
   "cell_type": "code",
   "execution_count": 19,
   "metadata": {},
   "outputs": [
    {
     "data": {
      "text/html": [
       "<div>\n",
       "<style scoped>\n",
       "    .dataframe tbody tr th:only-of-type {\n",
       "        vertical-align: middle;\n",
       "    }\n",
       "\n",
       "    .dataframe tbody tr th {\n",
       "        vertical-align: top;\n",
       "    }\n",
       "\n",
       "    .dataframe thead th {\n",
       "        text-align: right;\n",
       "    }\n",
       "</style>\n",
       "<table border=\"1\" class=\"dataframe\">\n",
       "  <thead>\n",
       "    <tr style=\"text-align: right;\">\n",
       "      <th></th>\n",
       "      <th>LIMIT_BAL</th>\n",
       "      <th>SEX</th>\n",
       "      <th>EDUCATION</th>\n",
       "      <th>MARRIAGE</th>\n",
       "      <th>AGE</th>\n",
       "      <th>PAY_0</th>\n",
       "      <th>PAY_2</th>\n",
       "      <th>PAY_3</th>\n",
       "      <th>PAY_4</th>\n",
       "      <th>PAY_5</th>\n",
       "      <th>...</th>\n",
       "      <th>BILL_AMT4</th>\n",
       "      <th>BILL_AMT5</th>\n",
       "      <th>BILL_AMT6</th>\n",
       "      <th>PAY_AMT1</th>\n",
       "      <th>PAY_AMT2</th>\n",
       "      <th>PAY_AMT3</th>\n",
       "      <th>PAY_AMT4</th>\n",
       "      <th>PAY_AMT5</th>\n",
       "      <th>PAY_AMT6</th>\n",
       "      <th>default payment next month</th>\n",
       "    </tr>\n",
       "    <tr>\n",
       "      <th>ID</th>\n",
       "      <th></th>\n",
       "      <th></th>\n",
       "      <th></th>\n",
       "      <th></th>\n",
       "      <th></th>\n",
       "      <th></th>\n",
       "      <th></th>\n",
       "      <th></th>\n",
       "      <th></th>\n",
       "      <th></th>\n",
       "      <th></th>\n",
       "      <th></th>\n",
       "      <th></th>\n",
       "      <th></th>\n",
       "      <th></th>\n",
       "      <th></th>\n",
       "      <th></th>\n",
       "      <th></th>\n",
       "      <th></th>\n",
       "      <th></th>\n",
       "      <th></th>\n",
       "    </tr>\n",
       "  </thead>\n",
       "  <tbody>\n",
       "    <tr>\n",
       "      <td>1</td>\n",
       "      <td>20000</td>\n",
       "      <td>2</td>\n",
       "      <td>2</td>\n",
       "      <td>1</td>\n",
       "      <td>24</td>\n",
       "      <td>2</td>\n",
       "      <td>2</td>\n",
       "      <td>-1</td>\n",
       "      <td>-1</td>\n",
       "      <td>-2</td>\n",
       "      <td>...</td>\n",
       "      <td>0</td>\n",
       "      <td>0</td>\n",
       "      <td>0</td>\n",
       "      <td>0</td>\n",
       "      <td>689</td>\n",
       "      <td>0</td>\n",
       "      <td>0</td>\n",
       "      <td>0</td>\n",
       "      <td>0</td>\n",
       "      <td>1</td>\n",
       "    </tr>\n",
       "    <tr>\n",
       "      <td>2</td>\n",
       "      <td>120000</td>\n",
       "      <td>2</td>\n",
       "      <td>2</td>\n",
       "      <td>2</td>\n",
       "      <td>26</td>\n",
       "      <td>-1</td>\n",
       "      <td>2</td>\n",
       "      <td>0</td>\n",
       "      <td>0</td>\n",
       "      <td>0</td>\n",
       "      <td>...</td>\n",
       "      <td>3272</td>\n",
       "      <td>3455</td>\n",
       "      <td>3261</td>\n",
       "      <td>0</td>\n",
       "      <td>1000</td>\n",
       "      <td>1000</td>\n",
       "      <td>1000</td>\n",
       "      <td>0</td>\n",
       "      <td>2000</td>\n",
       "      <td>1</td>\n",
       "    </tr>\n",
       "    <tr>\n",
       "      <td>3</td>\n",
       "      <td>90000</td>\n",
       "      <td>2</td>\n",
       "      <td>2</td>\n",
       "      <td>2</td>\n",
       "      <td>34</td>\n",
       "      <td>0</td>\n",
       "      <td>0</td>\n",
       "      <td>0</td>\n",
       "      <td>0</td>\n",
       "      <td>0</td>\n",
       "      <td>...</td>\n",
       "      <td>14331</td>\n",
       "      <td>14948</td>\n",
       "      <td>15549</td>\n",
       "      <td>1518</td>\n",
       "      <td>1500</td>\n",
       "      <td>1000</td>\n",
       "      <td>1000</td>\n",
       "      <td>1000</td>\n",
       "      <td>5000</td>\n",
       "      <td>0</td>\n",
       "    </tr>\n",
       "    <tr>\n",
       "      <td>4</td>\n",
       "      <td>50000</td>\n",
       "      <td>2</td>\n",
       "      <td>2</td>\n",
       "      <td>1</td>\n",
       "      <td>37</td>\n",
       "      <td>0</td>\n",
       "      <td>0</td>\n",
       "      <td>0</td>\n",
       "      <td>0</td>\n",
       "      <td>0</td>\n",
       "      <td>...</td>\n",
       "      <td>28314</td>\n",
       "      <td>28959</td>\n",
       "      <td>29547</td>\n",
       "      <td>2000</td>\n",
       "      <td>2019</td>\n",
       "      <td>1200</td>\n",
       "      <td>1100</td>\n",
       "      <td>1069</td>\n",
       "      <td>1000</td>\n",
       "      <td>0</td>\n",
       "    </tr>\n",
       "    <tr>\n",
       "      <td>5</td>\n",
       "      <td>50000</td>\n",
       "      <td>1</td>\n",
       "      <td>2</td>\n",
       "      <td>1</td>\n",
       "      <td>57</td>\n",
       "      <td>-1</td>\n",
       "      <td>0</td>\n",
       "      <td>-1</td>\n",
       "      <td>0</td>\n",
       "      <td>0</td>\n",
       "      <td>...</td>\n",
       "      <td>20940</td>\n",
       "      <td>19146</td>\n",
       "      <td>19131</td>\n",
       "      <td>2000</td>\n",
       "      <td>36681</td>\n",
       "      <td>10000</td>\n",
       "      <td>9000</td>\n",
       "      <td>689</td>\n",
       "      <td>679</td>\n",
       "      <td>0</td>\n",
       "    </tr>\n",
       "  </tbody>\n",
       "</table>\n",
       "<p>5 rows × 24 columns</p>\n",
       "</div>"
      ],
      "text/plain": [
       "    LIMIT_BAL SEX EDUCATION MARRIAGE  AGE PAY_0 PAY_2 PAY_3 PAY_4 PAY_5  ...  \\\n",
       "ID                                                                       ...   \n",
       "1       20000   2         2        1   24     2     2    -1    -1    -2  ...   \n",
       "2      120000   2         2        2   26    -1     2     0     0     0  ...   \n",
       "3       90000   2         2        2   34     0     0     0     0     0  ...   \n",
       "4       50000   2         2        1   37     0     0     0     0     0  ...   \n",
       "5       50000   1         2        1   57    -1     0    -1     0     0  ...   \n",
       "\n",
       "   BILL_AMT4  BILL_AMT5  BILL_AMT6  PAY_AMT1  PAY_AMT2  PAY_AMT3  PAY_AMT4  \\\n",
       "ID                                                                           \n",
       "1          0          0          0         0       689         0         0   \n",
       "2       3272       3455       3261         0      1000      1000      1000   \n",
       "3      14331      14948      15549      1518      1500      1000      1000   \n",
       "4      28314      28959      29547      2000      2019      1200      1100   \n",
       "5      20940      19146      19131      2000     36681     10000      9000   \n",
       "\n",
       "    PAY_AMT5  PAY_AMT6  default payment next month  \n",
       "ID                                                  \n",
       "1          0         0                           1  \n",
       "2          0      2000                           1  \n",
       "3       1000      5000                           0  \n",
       "4       1069      1000                           0  \n",
       "5        689       679                           0  \n",
       "\n",
       "[5 rows x 24 columns]"
      ]
     },
     "execution_count": 19,
     "metadata": {},
     "output_type": "execute_result"
    }
   ],
   "source": [
    "credit.head()"
   ]
  },
  {
   "cell_type": "code",
   "execution_count": 20,
   "metadata": {},
   "outputs": [
    {
     "data": {
      "text/plain": [
       "<seaborn.axisgrid.FacetGrid at 0x13ddb68ff88>"
      ]
     },
     "execution_count": 20,
     "metadata": {},
     "output_type": "execute_result"
    },
    {
     "data": {
      "image/png": "[encoded data removed]",
      "text/plain": [
       "<Figure size 360x360 with 1 Axes>"
      ]
     },
     "metadata": {
      "needs_background": "light"
     },
     "output_type": "display_data"
    }
   ],
   "source": [
    "# Factor plot of those who defaulted vs. who didn't\n",
    "sns.factorplot('default payment next month', data=credit, kind='count')"
   ]
  },
  {
   "cell_type": "code",
   "execution_count": 21,
   "metadata": {},
   "outputs": [
    {
     "name": "stdout",
     "output_type": "stream",
     "text": [
      "<class 'pandas.core.frame.DataFrame'>\n",
      "Int64Index: 30000 entries, 1 to 30000\n",
      "Data columns (total 24 columns):\n",
      "LIMIT_BAL    30000 non-null int64\n",
      "SEX          30000 non-null category\n",
      "EDUCATION    30000 non-null category\n",
      "MARRIAGE     30000 non-null category\n",
      "AGE          30000 non-null int64\n",
      "PAY_0        30000 non-null category\n",
      "PAY_2        30000 non-null category\n",
      "PAY_3        30000 non-null category\n",
      "PAY_4        30000 non-null category\n",
      "PAY_5        30000 non-null category\n",
      "PAY_6        30000 non-null category\n",
      "BILL_AMT1    30000 non-null int64\n",
      "BILL_AMT2    30000 non-null int64\n",
      "BILL_AMT3    30000 non-null int64\n",
      "BILL_AMT4    30000 non-null int64\n",
      "BILL_AMT5    30000 non-null int64\n",
      "BILL_AMT6    30000 non-null int64\n",
      "PAY_AMT1     30000 non-null int64\n",
      "PAY_AMT2     30000 non-null int64\n",
      "PAY_AMT3     30000 non-null int64\n",
      "PAY_AMT4     30000 non-null int64\n",
      "PAY_AMT5     30000 non-null int64\n",
      "PAY_AMT6     30000 non-null int64\n",
      "default      30000 non-null category\n",
      "dtypes: category(10), int64(14)\n",
      "memory usage: 3.7 MB\n"
     ]
    }
   ],
   "source": [
    "credit=credit.rename(columns={'default payment next month': 'default'})\n",
    "credit.info()"
   ]
  },
  {
   "cell_type": "code",
   "execution_count": 22,
   "metadata": {},
   "outputs": [
    {
     "name": "stderr",
     "output_type": "stream",
     "text": [
      "C:\\Users\\smele\\Anaconda3\\lib\\site-packages\\seaborn\\categorical.py:3672: UserWarning: The `size` paramter has been renamed to `height`; please update your code.\n",
      "  warnings.warn(msg, UserWarning)\n"
     ]
    },
    {
     "data": {
      "text/plain": [
       "<seaborn.axisgrid.FacetGrid at 0x13ddb719a08>"
      ]
     },
     "execution_count": 22,
     "metadata": {},
     "output_type": "execute_result"
    },
    {
     "data": {
      "image/png": "[encoded data removed]",
      "text/plain": [
       "<Figure size 942.375x360 with 2 Axes>"
      ]
     },
     "metadata": {
      "needs_background": "light"
     },
     "output_type": "display_data"
    }
   ],
   "source": [
    "# Split the customers by default \n",
    "sns.factorplot('EDUCATION', data=credit, kind='count', hue='SEX', col='default', aspect=1.25, size=5)"
   ]
  },
  {
   "cell_type": "code",
   "execution_count": 24,
   "metadata": {},
   "outputs": [
    {
     "data": {
      "text/plain": [
       "<seaborn.axisgrid.FacetGrid at 0x13ddacb0bc8>"
      ]
     },
     "execution_count": 24,
     "metadata": {},
     "output_type": "execute_result"
    },
    {
     "data": {
      "image/png": "[encoded data removed]",
      "text/plain": [
       "<Figure size 942.375x360 with 2 Axes>"
      ]
     },
     "metadata": {
      "needs_background": "light"
     },
     "output_type": "display_data"
    }
   ],
   "source": [
    "sns.factorplot('MARRIAGE', data=credit, kind='count', hue='SEX', col='default',aspect=1.25, size=5)"
   ]
  },
  {
   "cell_type": "code",
   "execution_count": 26,
   "metadata": {},
   "outputs": [
    {
     "data": {
      "text/plain": [
       "<seaborn.axisgrid.FacetGrid at 0x13dde259908>"
      ]
     },
     "execution_count": 26,
     "metadata": {},
     "output_type": "execute_result"
    },
    {
     "data": {
      "image/png": "[encoded data removed]",
      "text/plain": [
       "<Figure size 961x360 with 2 Axes>"
      ]
     },
     "metadata": {
      "needs_background": "light"
     },
     "output_type": "display_data"
    }
   ],
   "source": [
    "sns.factorplot('EDUCATION', data=credit, kind='count', hue='MARRIAGE', col='default',aspect=1.25, size=5)"
   ]
  },
  {
   "cell_type": "markdown",
   "metadata": {},
   "source": [
    "### Grouped by gender"
   ]
  },
  {
   "cell_type": "code",
   "execution_count": 29,
   "metadata": {},
   "outputs": [
    {
     "data": {
      "text/plain": [
       "<seaborn.axisgrid.FacetGrid at 0x13dde6cfe88>"
      ]
     },
     "execution_count": 29,
     "metadata": {},
     "output_type": "execute_result"
    },
    {
     "data": {
      "image/png": "[encoded data removed]",
      "text/plain": [
       "<Figure size 906.375x216 with 1 Axes>"
      ]
     },
     "metadata": {
      "needs_background": "light"
     },
     "output_type": "display_data"
    }
   ],
   "source": [
    "fig = sns.FacetGrid(credit, hue='SEX', aspect=4)\n",
    "fig.map(sns.kdeplot, 'AGE', shade=True)\n",
    "oldest = credit['AGE'].max()\n",
    "fig.set(xlim=(0,oldest))\n",
    "fig.set(title='Distribution of Age Grouped by Gender')\n",
    "fig.add_legend()"
   ]
  },
  {
   "cell_type": "markdown",
   "metadata": {},
   "source": [
    "### Grouped by marriage"
   ]
  },
  {
   "cell_type": "code",
   "execution_count": 30,
   "metadata": {},
   "outputs": [
    {
     "data": {
      "text/plain": [
       "<seaborn.axisgrid.FacetGrid at 0x13dde7455c8>"
      ]
     },
     "execution_count": 30,
     "metadata": {},
     "output_type": "execute_result"
    },
    {
     "data": {
      "image/png": "[encoded data removed]",
      "text/plain": [
       "<Figure size 925x216 with 1 Axes>"
      ]
     },
     "metadata": {
      "needs_background": "light"
     },
     "output_type": "display_data"
    }
   ],
   "source": [
    "fig = sns.FacetGrid(credit, hue='MARRIAGE', aspect=4)\n",
    "fig.map(sns.kdeplot, 'AGE', shade=True)\n",
    "oldest = credit['AGE'].max()\n",
    "fig.set(xlim=(0,oldest))\n",
    "fig.add_legend()"
   ]
  },
  {
   "cell_type": "markdown",
   "metadata": {},
   "source": [
    "### Grouped by Education"
   ]
  },
  {
   "cell_type": "raw",
   "metadata": {},
   "source": [
    "EDUCATION: (1=graduate school, 2=university, 3=high school, 4=others, 5=unknown, 6=unknown)"
   ]
  },
  {
   "cell_type": "code",
   "execution_count": 32,
   "metadata": {},
   "outputs": [
    {
     "data": {
      "text/plain": [
       "<seaborn.axisgrid.FacetGrid at 0x13dde983348>"
      ]
     },
     "execution_count": 32,
     "metadata": {},
     "output_type": "execute_result"
    },
    {
     "data": {
      "image/png": "[encoded data removed]",
      "text/plain": [
       "<Figure size 931.25x216 with 1 Axes>"
      ]
     },
     "metadata": {
      "needs_background": "light"
     },
     "output_type": "display_data"
    }
   ],
   "source": [
    "fig = sns.FacetGrid(credit, hue='EDUCATION', aspect=4)\n",
    "fig.map(sns.kdeplot, 'AGE', shade=True)\n",
    "oldest = credit['AGE'].max()\n",
    "fig.set(xlim=(0,oldest))\n",
    "fig.add_legend()"
   ]
  },
  {
   "cell_type": "markdown",
   "metadata": {},
   "source": [
    "### Group by Repayment Status"
   ]
  },
  {
   "cell_type": "code",
   "execution_count": 33,
   "metadata": {},
   "outputs": [
    {
     "data": {
      "text/plain": [
       "<seaborn.axisgrid.FacetGrid at 0x13dde901388>"
      ]
     },
     "execution_count": 33,
     "metadata": {},
     "output_type": "execute_result"
    },
    {
     "data": {
      "image/png": "[encoded data removed]",
      "text/plain": [
       "<Figure size 720x360 with 1 Axes>"
      ]
     },
     "metadata": {
      "needs_background": "light"
     },
     "output_type": "display_data"
    }
   ],
   "source": [
    "sns.factorplot('PAY_0', data=credit, kind='count',aspect=2,palette='winter_d')"
   ]
  },
  {
   "cell_type": "markdown",
   "metadata": {},
   "source": [
    "### Analysis"
   ]
  },
  {
   "cell_type": "raw",
   "metadata": {},
   "source": [
    "The EDA of the original dataset. We have learned some potential business values from this analysis.\n",
    "\n",
    "1 - There are the total 30,000 observations in our credit card dataset. There are 6636 observations (22.12%) are defaulted credit card holders. There are 23364 observations (77.88%) are not defaulted credit card holders.\n",
    "\n",
    "2 - In the defaulted credit card holder group, 43.29% are male, while 56.71% are female. In the not_ defaulted group, 38.585% are male, while 61.415% are female. It showed proportion of male in the defaulted group is higher than not defaulted group.\n",
    "\n",
    "3 - The mean of age in the defaulted credit card holder group is 35.48 and 75% of this group is under 41. And mean of age in the not defaulted credit card holder group is 35.41 and 75% of this group is under 41. There are no significant differences in age distributions between these two groups.\n",
    "\n",
    "4 - The mean of Amount of the given credit in the defaulted credit card holder group is 130,109.66, and 75% of this group is under 200,000. The mean of Amount of the given credit in the not defaulted credit card holder group is 178099.73, and 75% of this group is under 250,000.The results show that Amount of the given credit in the defaulted group is lower than not defaulted group.\n",
    "\n",
    "5 - In the defaulted credit card holder group, 11.10% of this group is graduate level, 6.79% is university level and 4.12% are high school. For a total of 22.12% from the total of credits.  In the not defaulted group, 28.50% of this group is graduate, 35.67% is university level and 12.27% are high school. The not defaulted group has a larger proportion of higher education level.\n",
    "\n",
    "6 - In the defaulted credit card holder group, 11.14% of customers are singles, 10.69% of customers are married, and 0.28% of customers are divorce. In the not defaulted group, 42.08% of customers are singles, 34.84% of customers are married, and 0.8% of customers are divorce. The not defaulted group has a slight larger proportion of married customers."
   ]
  },
  {
   "cell_type": "markdown",
   "metadata": {},
   "source": [
    "### Conclusions"
   ]
  },
  {
   "cell_type": "raw",
   "metadata": {},
   "source": [
    "Exploratory data analysis is a very effective tool to get deep insight into our data through visualization methods. We can get a lot of useful information about our dataset before building up our model. Through EDA, we can explore our data from different angles, visualize our results and get new ideas to analyze our model. Through EDA, we can easily communicate and present our results to stakeholders without technical background. \n",
    "\n",
    "This analysis indicates gender, amount of the given credit, education and marriage status have some effect on default rate. Age is not a significant factor to affect default rate. Before building up our model, we gain some insight into \n",
    "factors that affect default rate, which can help us to solve high default rate problem."
   ]
  },
  {
   "cell_type": "markdown",
   "metadata": {},
   "source": [
    "### 2.4 - One-Hot Encoding"
   ]
  },
  {
   "cell_type": "code",
   "execution_count": 94,
   "metadata": {},
   "outputs": [
    {
     "data": {
      "text/html": [
       "<div>\n",
       "<style scoped>\n",
       "    .dataframe tbody tr th:only-of-type {\n",
       "        vertical-align: middle;\n",
       "    }\n",
       "\n",
       "    .dataframe tbody tr th {\n",
       "        vertical-align: top;\n",
       "    }\n",
       "\n",
       "    .dataframe thead th {\n",
       "        text-align: right;\n",
       "    }\n",
       "</style>\n",
       "<table border=\"1\" class=\"dataframe\">\n",
       "  <thead>\n",
       "    <tr style=\"text-align: right;\">\n",
       "      <th></th>\n",
       "      <th>ID</th>\n",
       "      <th>LIMIT_BAL</th>\n",
       "      <th>SEX</th>\n",
       "      <th>EDUCATION</th>\n",
       "      <th>MARRIAGE</th>\n",
       "      <th>AGE</th>\n",
       "      <th>PAY_0</th>\n",
       "      <th>PAY_2</th>\n",
       "      <th>PAY_3</th>\n",
       "      <th>PAY_4</th>\n",
       "      <th>...</th>\n",
       "      <th>BILL_AMT4</th>\n",
       "      <th>BILL_AMT5</th>\n",
       "      <th>BILL_AMT6</th>\n",
       "      <th>PAY_AMT1</th>\n",
       "      <th>PAY_AMT2</th>\n",
       "      <th>PAY_AMT3</th>\n",
       "      <th>PAY_AMT4</th>\n",
       "      <th>PAY_AMT5</th>\n",
       "      <th>PAY_AMT6</th>\n",
       "      <th>default payment next month</th>\n",
       "    </tr>\n",
       "  </thead>\n",
       "  <tbody>\n",
       "    <tr>\n",
       "      <td>0</td>\n",
       "      <td>1</td>\n",
       "      <td>20000</td>\n",
       "      <td>2</td>\n",
       "      <td>2</td>\n",
       "      <td>1</td>\n",
       "      <td>24</td>\n",
       "      <td>2</td>\n",
       "      <td>2</td>\n",
       "      <td>-1</td>\n",
       "      <td>-1</td>\n",
       "      <td>...</td>\n",
       "      <td>0</td>\n",
       "      <td>0</td>\n",
       "      <td>0</td>\n",
       "      <td>0</td>\n",
       "      <td>689</td>\n",
       "      <td>0</td>\n",
       "      <td>0</td>\n",
       "      <td>0</td>\n",
       "      <td>0</td>\n",
       "      <td>1</td>\n",
       "    </tr>\n",
       "    <tr>\n",
       "      <td>1</td>\n",
       "      <td>2</td>\n",
       "      <td>120000</td>\n",
       "      <td>2</td>\n",
       "      <td>2</td>\n",
       "      <td>2</td>\n",
       "      <td>26</td>\n",
       "      <td>-1</td>\n",
       "      <td>2</td>\n",
       "      <td>0</td>\n",
       "      <td>0</td>\n",
       "      <td>...</td>\n",
       "      <td>3272</td>\n",
       "      <td>3455</td>\n",
       "      <td>3261</td>\n",
       "      <td>0</td>\n",
       "      <td>1000</td>\n",
       "      <td>1000</td>\n",
       "      <td>1000</td>\n",
       "      <td>0</td>\n",
       "      <td>2000</td>\n",
       "      <td>1</td>\n",
       "    </tr>\n",
       "    <tr>\n",
       "      <td>2</td>\n",
       "      <td>3</td>\n",
       "      <td>90000</td>\n",
       "      <td>2</td>\n",
       "      <td>2</td>\n",
       "      <td>2</td>\n",
       "      <td>34</td>\n",
       "      <td>0</td>\n",
       "      <td>0</td>\n",
       "      <td>0</td>\n",
       "      <td>0</td>\n",
       "      <td>...</td>\n",
       "      <td>14331</td>\n",
       "      <td>14948</td>\n",
       "      <td>15549</td>\n",
       "      <td>1518</td>\n",
       "      <td>1500</td>\n",
       "      <td>1000</td>\n",
       "      <td>1000</td>\n",
       "      <td>1000</td>\n",
       "      <td>5000</td>\n",
       "      <td>0</td>\n",
       "    </tr>\n",
       "    <tr>\n",
       "      <td>3</td>\n",
       "      <td>4</td>\n",
       "      <td>50000</td>\n",
       "      <td>2</td>\n",
       "      <td>2</td>\n",
       "      <td>1</td>\n",
       "      <td>37</td>\n",
       "      <td>0</td>\n",
       "      <td>0</td>\n",
       "      <td>0</td>\n",
       "      <td>0</td>\n",
       "      <td>...</td>\n",
       "      <td>28314</td>\n",
       "      <td>28959</td>\n",
       "      <td>29547</td>\n",
       "      <td>2000</td>\n",
       "      <td>2019</td>\n",
       "      <td>1200</td>\n",
       "      <td>1100</td>\n",
       "      <td>1069</td>\n",
       "      <td>1000</td>\n",
       "      <td>0</td>\n",
       "    </tr>\n",
       "    <tr>\n",
       "      <td>4</td>\n",
       "      <td>5</td>\n",
       "      <td>50000</td>\n",
       "      <td>1</td>\n",
       "      <td>2</td>\n",
       "      <td>1</td>\n",
       "      <td>57</td>\n",
       "      <td>-1</td>\n",
       "      <td>0</td>\n",
       "      <td>-1</td>\n",
       "      <td>0</td>\n",
       "      <td>...</td>\n",
       "      <td>20940</td>\n",
       "      <td>19146</td>\n",
       "      <td>19131</td>\n",
       "      <td>2000</td>\n",
       "      <td>36681</td>\n",
       "      <td>10000</td>\n",
       "      <td>9000</td>\n",
       "      <td>689</td>\n",
       "      <td>679</td>\n",
       "      <td>0</td>\n",
       "    </tr>\n",
       "  </tbody>\n",
       "</table>\n",
       "<p>5 rows × 25 columns</p>\n",
       "</div>"
      ],
      "text/plain": [
       "   ID  LIMIT_BAL  SEX  EDUCATION  MARRIAGE  AGE  PAY_0  PAY_2  PAY_3  PAY_4  \\\n",
       "0   1      20000    2          2         1   24      2      2     -1     -1   \n",
       "1   2     120000    2          2         2   26     -1      2      0      0   \n",
       "2   3      90000    2          2         2   34      0      0      0      0   \n",
       "3   4      50000    2          2         1   37      0      0      0      0   \n",
       "4   5      50000    1          2         1   57     -1      0     -1      0   \n",
       "\n",
       "   ...  BILL_AMT4  BILL_AMT5  BILL_AMT6  PAY_AMT1  PAY_AMT2  PAY_AMT3  \\\n",
       "0  ...          0          0          0         0       689         0   \n",
       "1  ...       3272       3455       3261         0      1000      1000   \n",
       "2  ...      14331      14948      15549      1518      1500      1000   \n",
       "3  ...      28314      28959      29547      2000      2019      1200   \n",
       "4  ...      20940      19146      19131      2000     36681     10000   \n",
       "\n",
       "   PAY_AMT4  PAY_AMT5  PAY_AMT6  default payment next month  \n",
       "0         0         0         0                           1  \n",
       "1      1000         0      2000                           1  \n",
       "2      1000      1000      5000                           0  \n",
       "3      1100      1069      1000                           0  \n",
       "4      9000       689       679                           0  \n",
       "\n",
       "[5 rows x 25 columns]"
      ]
     },
     "execution_count": 94,
     "metadata": {},
     "output_type": "execute_result"
    }
   ],
   "source": [
    "credit= pd.read_csv(r'C:\\Users\\smele\\Documents\\XTOL Big Data\\Module 5\\Task 2 - Prepare and Explore the Data\\default of credit card clients.csv', header =1)\n",
    "credit.head()"
   ]
  },
  {
   "cell_type": "code",
   "execution_count": 96,
   "metadata": {},
   "outputs": [
    {
     "name": "stdout",
     "output_type": "stream",
     "text": [
      "<class 'pandas.core.frame.DataFrame'>\n",
      "RangeIndex: 30000 entries, 0 to 29999\n",
      "Data columns (total 25 columns):\n",
      "ID                            30000 non-null int64\n",
      "LIMIT_BAL                     30000 non-null int64\n",
      "SEX                           30000 non-null category\n",
      "EDUCATION                     30000 non-null category\n",
      "MARRIAGE                      30000 non-null category\n",
      "AGE                           30000 non-null int64\n",
      "PAY_0                         30000 non-null category\n",
      "PAY_2                         30000 non-null category\n",
      "PAY_3                         30000 non-null category\n",
      "PAY_4                         30000 non-null category\n",
      "PAY_5                         30000 non-null category\n",
      "PAY_6                         30000 non-null category\n",
      "BILL_AMT1                     30000 non-null int64\n",
      "BILL_AMT2                     30000 non-null int64\n",
      "BILL_AMT3                     30000 non-null int64\n",
      "BILL_AMT4                     30000 non-null int64\n",
      "BILL_AMT5                     30000 non-null int64\n",
      "BILL_AMT6                     30000 non-null int64\n",
      "PAY_AMT1                      30000 non-null int64\n",
      "PAY_AMT2                      30000 non-null int64\n",
      "PAY_AMT3                      30000 non-null int64\n",
      "PAY_AMT4                      30000 non-null int64\n",
      "PAY_AMT5                      30000 non-null int64\n",
      "PAY_AMT6                      30000 non-null int64\n",
      "default payment next month    30000 non-null category\n",
      "dtypes: category(10), int64(15)\n",
      "memory usage: 3.7 MB\n"
     ]
    }
   ],
   "source": [
    "credit.info()"
   ]
  },
  {
   "cell_type": "code",
   "execution_count": 97,
   "metadata": {},
   "outputs": [],
   "source": [
    "credit=credit.drop('ID', axis=1)"
   ]
  },
  {
   "cell_type": "code",
   "execution_count": 98,
   "metadata": {},
   "outputs": [
    {
     "name": "stdout",
     "output_type": "stream",
     "text": [
      "<class 'pandas.core.frame.DataFrame'>\n",
      "RangeIndex: 30000 entries, 0 to 29999\n",
      "Data columns (total 24 columns):\n",
      "LIMIT_BAL                     30000 non-null int64\n",
      "SEX                           30000 non-null category\n",
      "EDUCATION                     30000 non-null category\n",
      "MARRIAGE                      30000 non-null category\n",
      "AGE                           30000 non-null int64\n",
      "PAY_0                         30000 non-null category\n",
      "PAY_2                         30000 non-null category\n",
      "PAY_3                         30000 non-null category\n",
      "PAY_4                         30000 non-null category\n",
      "PAY_5                         30000 non-null category\n",
      "PAY_6                         30000 non-null category\n",
      "BILL_AMT1                     30000 non-null int64\n",
      "BILL_AMT2                     30000 non-null int64\n",
      "BILL_AMT3                     30000 non-null int64\n",
      "BILL_AMT4                     30000 non-null int64\n",
      "BILL_AMT5                     30000 non-null int64\n",
      "BILL_AMT6                     30000 non-null int64\n",
      "PAY_AMT1                      30000 non-null int64\n",
      "PAY_AMT2                      30000 non-null int64\n",
      "PAY_AMT3                      30000 non-null int64\n",
      "PAY_AMT4                      30000 non-null int64\n",
      "PAY_AMT5                      30000 non-null int64\n",
      "PAY_AMT6                      30000 non-null int64\n",
      "default payment next month    30000 non-null category\n",
      "dtypes: category(10), int64(14)\n",
      "memory usage: 3.5 MB\n"
     ]
    }
   ],
   "source": [
    "# change variable types\n",
    "credit['SEX'] = credit['SEX'].astype('category')\n",
    "credit['EDUCATION'] = credit['EDUCATION'].astype('category')\n",
    "credit['MARRIAGE'] = credit['MARRIAGE'].astype('category')\n",
    "credit['PAY_0'] = credit['PAY_0'].astype('category')\n",
    "credit['PAY_2'] = credit['PAY_2'].astype('category')\n",
    "credit['PAY_3'] = credit['PAY_3'].astype('category')\n",
    "credit['PAY_4'] = credit['PAY_4'].astype('category')\n",
    "credit['PAY_5'] = credit['PAY_5'].astype('category')\n",
    "credit['PAY_6'] = credit['PAY_6'].astype('category')\n",
    "credit['default payment next month'] = credit['default payment next month'].astype('category')\n",
    "credit.info()"
   ]
  },
  {
   "cell_type": "code",
   "execution_count": 99,
   "metadata": {},
   "outputs": [
    {
     "name": "stdout",
     "output_type": "stream",
     "text": [
      "<class 'pandas.core.frame.DataFrame'>\n",
      "RangeIndex: 30000 entries, 0 to 29999\n",
      "Data columns (total 24 columns):\n",
      "LIMIT_BAL                     30000 non-null int64\n",
      "SEX                           30000 non-null category\n",
      "EDUCATION                     30000 non-null category\n",
      "MARRIAGE                      30000 non-null category\n",
      "AGE                           30000 non-null int64\n",
      "PAY_0                         30000 non-null category\n",
      "PAY_2                         30000 non-null category\n",
      "PAY_3                         30000 non-null category\n",
      "PAY_4                         30000 non-null category\n",
      "PAY_5                         30000 non-null category\n",
      "PAY_6                         30000 non-null category\n",
      "BILL_AMT1                     30000 non-null int64\n",
      "BILL_AMT2                     30000 non-null int64\n",
      "BILL_AMT3                     30000 non-null int64\n",
      "BILL_AMT4                     30000 non-null int64\n",
      "BILL_AMT5                     30000 non-null int64\n",
      "BILL_AMT6                     30000 non-null int64\n",
      "PAY_AMT1                      30000 non-null int64\n",
      "PAY_AMT2                      30000 non-null int64\n",
      "PAY_AMT3                      30000 non-null int64\n",
      "PAY_AMT4                      30000 non-null int64\n",
      "PAY_AMT5                      30000 non-null int64\n",
      "PAY_AMT6                      30000 non-null int64\n",
      "default payment next month    30000 non-null category\n",
      "dtypes: category(10), int64(14)\n",
      "memory usage: 3.5 MB\n"
     ]
    }
   ],
   "source": [
    "credit.info()"
   ]
  },
  {
   "cell_type": "code",
   "execution_count": 100,
   "metadata": {},
   "outputs": [
    {
     "data": {
      "text/html": [
       "<div>\n",
       "<style scoped>\n",
       "    .dataframe tbody tr th:only-of-type {\n",
       "        vertical-align: middle;\n",
       "    }\n",
       "\n",
       "    .dataframe tbody tr th {\n",
       "        vertical-align: top;\n",
       "    }\n",
       "\n",
       "    .dataframe thead th {\n",
       "        text-align: right;\n",
       "    }\n",
       "</style>\n",
       "<table border=\"1\" class=\"dataframe\">\n",
       "  <thead>\n",
       "    <tr style=\"text-align: right;\">\n",
       "      <th></th>\n",
       "      <th>LIMIT_BAL</th>\n",
       "      <th>AGE</th>\n",
       "      <th>BILL_AMT1</th>\n",
       "      <th>BILL_AMT2</th>\n",
       "      <th>BILL_AMT3</th>\n",
       "      <th>BILL_AMT4</th>\n",
       "      <th>BILL_AMT5</th>\n",
       "      <th>BILL_AMT6</th>\n",
       "      <th>PAY_AMT1</th>\n",
       "      <th>PAY_AMT2</th>\n",
       "      <th>PAY_AMT3</th>\n",
       "      <th>PAY_AMT4</th>\n",
       "      <th>PAY_AMT5</th>\n",
       "      <th>PAY_AMT6</th>\n",
       "    </tr>\n",
       "  </thead>\n",
       "  <tbody>\n",
       "    <tr>\n",
       "      <td>0</td>\n",
       "      <td>20000</td>\n",
       "      <td>24</td>\n",
       "      <td>3913</td>\n",
       "      <td>3102</td>\n",
       "      <td>689</td>\n",
       "      <td>0</td>\n",
       "      <td>0</td>\n",
       "      <td>0</td>\n",
       "      <td>0</td>\n",
       "      <td>689</td>\n",
       "      <td>0</td>\n",
       "      <td>0</td>\n",
       "      <td>0</td>\n",
       "      <td>0</td>\n",
       "    </tr>\n",
       "    <tr>\n",
       "      <td>1</td>\n",
       "      <td>120000</td>\n",
       "      <td>26</td>\n",
       "      <td>2682</td>\n",
       "      <td>1725</td>\n",
       "      <td>2682</td>\n",
       "      <td>3272</td>\n",
       "      <td>3455</td>\n",
       "      <td>3261</td>\n",
       "      <td>0</td>\n",
       "      <td>1000</td>\n",
       "      <td>1000</td>\n",
       "      <td>1000</td>\n",
       "      <td>0</td>\n",
       "      <td>2000</td>\n",
       "    </tr>\n",
       "    <tr>\n",
       "      <td>2</td>\n",
       "      <td>90000</td>\n",
       "      <td>34</td>\n",
       "      <td>29239</td>\n",
       "      <td>14027</td>\n",
       "      <td>13559</td>\n",
       "      <td>14331</td>\n",
       "      <td>14948</td>\n",
       "      <td>15549</td>\n",
       "      <td>1518</td>\n",
       "      <td>1500</td>\n",
       "      <td>1000</td>\n",
       "      <td>1000</td>\n",
       "      <td>1000</td>\n",
       "      <td>5000</td>\n",
       "    </tr>\n",
       "    <tr>\n",
       "      <td>3</td>\n",
       "      <td>50000</td>\n",
       "      <td>37</td>\n",
       "      <td>46990</td>\n",
       "      <td>48233</td>\n",
       "      <td>49291</td>\n",
       "      <td>28314</td>\n",
       "      <td>28959</td>\n",
       "      <td>29547</td>\n",
       "      <td>2000</td>\n",
       "      <td>2019</td>\n",
       "      <td>1200</td>\n",
       "      <td>1100</td>\n",
       "      <td>1069</td>\n",
       "      <td>1000</td>\n",
       "    </tr>\n",
       "    <tr>\n",
       "      <td>4</td>\n",
       "      <td>50000</td>\n",
       "      <td>57</td>\n",
       "      <td>8617</td>\n",
       "      <td>5670</td>\n",
       "      <td>35835</td>\n",
       "      <td>20940</td>\n",
       "      <td>19146</td>\n",
       "      <td>19131</td>\n",
       "      <td>2000</td>\n",
       "      <td>36681</td>\n",
       "      <td>10000</td>\n",
       "      <td>9000</td>\n",
       "      <td>689</td>\n",
       "      <td>679</td>\n",
       "    </tr>\n",
       "  </tbody>\n",
       "</table>\n",
       "</div>"
      ],
      "text/plain": [
       "   LIMIT_BAL  AGE  BILL_AMT1  BILL_AMT2  BILL_AMT3  BILL_AMT4  BILL_AMT5  \\\n",
       "0      20000   24       3913       3102        689          0          0   \n",
       "1     120000   26       2682       1725       2682       3272       3455   \n",
       "2      90000   34      29239      14027      13559      14331      14948   \n",
       "3      50000   37      46990      48233      49291      28314      28959   \n",
       "4      50000   57       8617       5670      35835      20940      19146   \n",
       "\n",
       "   BILL_AMT6  PAY_AMT1  PAY_AMT2  PAY_AMT3  PAY_AMT4  PAY_AMT5  PAY_AMT6  \n",
       "0          0         0       689         0         0         0         0  \n",
       "1       3261         0      1000      1000      1000         0      2000  \n",
       "2      15549      1518      1500      1000      1000      1000      5000  \n",
       "3      29547      2000      2019      1200      1100      1069      1000  \n",
       "4      19131      2000     36681     10000      9000       689       679  "
      ]
     },
     "execution_count": 100,
     "metadata": {},
     "output_type": "execute_result"
    }
   ],
   "source": [
    "XC=credit.loc[:,['LIMIT_BAL','AGE','BILL_AMT1','BILL_AMT2','BILL_AMT3','BILL_AMT4','BILL_AMT5','BILL_AMT6','PAY_AMT1','PAY_AMT2','PAY_AMT3','PAY_AMT4','PAY_AMT5','PAY_AMT6']]\n",
    "XC.head()"
   ]
  },
  {
   "cell_type": "code",
   "execution_count": 101,
   "metadata": {},
   "outputs": [
    {
     "name": "stdout",
     "output_type": "stream",
     "text": [
      "[[-1.13672015 -1.24601985 -0.64250107 -0.64739923 -0.66799331 -0.67249727\n",
      "  -0.66305853 -0.65272422 -0.34194162 -0.22708564 -0.29680127 -0.30806256\n",
      "  -0.31413612 -0.29338206]\n",
      " [-0.3659805  -1.02904717 -0.65921875 -0.66674657 -0.63925429 -0.62163594\n",
      "  -0.60622927 -0.59796638 -0.34194162 -0.21358766 -0.24000461 -0.24422965\n",
      "  -0.31413612 -0.18087821]\n",
      " [-0.59720239 -0.16115646 -0.29855966 -0.49389911 -0.48240819 -0.44973025\n",
      "  -0.41718767 -0.39162956 -0.25029158 -0.19188673 -0.24000461 -0.24422965\n",
      "  -0.24868274 -0.01212243]\n",
      " [-0.90549825  0.16430256 -0.05749103 -0.01329269  0.03284648 -0.23237268\n",
      "  -0.18672897 -0.15657889 -0.22119058 -0.16936116 -0.22864528 -0.23784635\n",
      "  -0.24416646 -0.23713013]\n",
      " [-0.90549825  2.33402934 -0.57861809 -0.61131792 -0.16118875 -0.3469972\n",
      "  -0.34813724 -0.33148158 -0.22119058  1.33503416  0.27116536  0.26643369\n",
      "  -0.26903874 -0.255187  ]]\n"
     ]
    },
    {
     "data": {
      "text/html": [
       "<div>\n",
       "<style scoped>\n",
       "    .dataframe tbody tr th:only-of-type {\n",
       "        vertical-align: middle;\n",
       "    }\n",
       "\n",
       "    .dataframe tbody tr th {\n",
       "        vertical-align: top;\n",
       "    }\n",
       "\n",
       "    .dataframe thead th {\n",
       "        text-align: right;\n",
       "    }\n",
       "</style>\n",
       "<table border=\"1\" class=\"dataframe\">\n",
       "  <thead>\n",
       "    <tr style=\"text-align: right;\">\n",
       "      <th></th>\n",
       "      <th>LIMIT_BAL</th>\n",
       "      <th>AGE</th>\n",
       "      <th>BILL_AMT1</th>\n",
       "      <th>BILL_AMT2</th>\n",
       "      <th>BILL_AMT3</th>\n",
       "      <th>BILL_AMT4</th>\n",
       "      <th>BILL_AMT5</th>\n",
       "      <th>BILL_AMT6</th>\n",
       "      <th>PAY_AMT1</th>\n",
       "      <th>PAY_AMT2</th>\n",
       "      <th>PAY_AMT3</th>\n",
       "      <th>PAY_AMT4</th>\n",
       "      <th>PAY_AMT5</th>\n",
       "      <th>PAY_AMT6</th>\n",
       "    </tr>\n",
       "  </thead>\n",
       "  <tbody>\n",
       "    <tr>\n",
       "      <td>0</td>\n",
       "      <td>-1.136720</td>\n",
       "      <td>-1.246020</td>\n",
       "      <td>-0.642501</td>\n",
       "      <td>-0.647399</td>\n",
       "      <td>-0.667993</td>\n",
       "      <td>-0.672497</td>\n",
       "      <td>-0.663059</td>\n",
       "      <td>-0.652724</td>\n",
       "      <td>-0.341942</td>\n",
       "      <td>-0.227086</td>\n",
       "      <td>-0.296801</td>\n",
       "      <td>-0.308063</td>\n",
       "      <td>-0.314136</td>\n",
       "      <td>-0.293382</td>\n",
       "    </tr>\n",
       "    <tr>\n",
       "      <td>1</td>\n",
       "      <td>-0.365981</td>\n",
       "      <td>-1.029047</td>\n",
       "      <td>-0.659219</td>\n",
       "      <td>-0.666747</td>\n",
       "      <td>-0.639254</td>\n",
       "      <td>-0.621636</td>\n",
       "      <td>-0.606229</td>\n",
       "      <td>-0.597966</td>\n",
       "      <td>-0.341942</td>\n",
       "      <td>-0.213588</td>\n",
       "      <td>-0.240005</td>\n",
       "      <td>-0.244230</td>\n",
       "      <td>-0.314136</td>\n",
       "      <td>-0.180878</td>\n",
       "    </tr>\n",
       "    <tr>\n",
       "      <td>2</td>\n",
       "      <td>-0.597202</td>\n",
       "      <td>-0.161156</td>\n",
       "      <td>-0.298560</td>\n",
       "      <td>-0.493899</td>\n",
       "      <td>-0.482408</td>\n",
       "      <td>-0.449730</td>\n",
       "      <td>-0.417188</td>\n",
       "      <td>-0.391630</td>\n",
       "      <td>-0.250292</td>\n",
       "      <td>-0.191887</td>\n",
       "      <td>-0.240005</td>\n",
       "      <td>-0.244230</td>\n",
       "      <td>-0.248683</td>\n",
       "      <td>-0.012122</td>\n",
       "    </tr>\n",
       "    <tr>\n",
       "      <td>3</td>\n",
       "      <td>-0.905498</td>\n",
       "      <td>0.164303</td>\n",
       "      <td>-0.057491</td>\n",
       "      <td>-0.013293</td>\n",
       "      <td>0.032846</td>\n",
       "      <td>-0.232373</td>\n",
       "      <td>-0.186729</td>\n",
       "      <td>-0.156579</td>\n",
       "      <td>-0.221191</td>\n",
       "      <td>-0.169361</td>\n",
       "      <td>-0.228645</td>\n",
       "      <td>-0.237846</td>\n",
       "      <td>-0.244166</td>\n",
       "      <td>-0.237130</td>\n",
       "    </tr>\n",
       "    <tr>\n",
       "      <td>4</td>\n",
       "      <td>-0.905498</td>\n",
       "      <td>2.334029</td>\n",
       "      <td>-0.578618</td>\n",
       "      <td>-0.611318</td>\n",
       "      <td>-0.161189</td>\n",
       "      <td>-0.346997</td>\n",
       "      <td>-0.348137</td>\n",
       "      <td>-0.331482</td>\n",
       "      <td>-0.221191</td>\n",
       "      <td>1.335034</td>\n",
       "      <td>0.271165</td>\n",
       "      <td>0.266434</td>\n",
       "      <td>-0.269039</td>\n",
       "      <td>-0.255187</td>\n",
       "    </tr>\n",
       "  </tbody>\n",
       "</table>\n",
       "</div>"
      ],
      "text/plain": [
       "   LIMIT_BAL       AGE  BILL_AMT1  BILL_AMT2  BILL_AMT3  BILL_AMT4  BILL_AMT5  \\\n",
       "0  -1.136720 -1.246020  -0.642501  -0.647399  -0.667993  -0.672497  -0.663059   \n",
       "1  -0.365981 -1.029047  -0.659219  -0.666747  -0.639254  -0.621636  -0.606229   \n",
       "2  -0.597202 -0.161156  -0.298560  -0.493899  -0.482408  -0.449730  -0.417188   \n",
       "3  -0.905498  0.164303  -0.057491  -0.013293   0.032846  -0.232373  -0.186729   \n",
       "4  -0.905498  2.334029  -0.578618  -0.611318  -0.161189  -0.346997  -0.348137   \n",
       "\n",
       "   BILL_AMT6  PAY_AMT1  PAY_AMT2  PAY_AMT3  PAY_AMT4  PAY_AMT5  PAY_AMT6  \n",
       "0  -0.652724 -0.341942 -0.227086 -0.296801 -0.308063 -0.314136 -0.293382  \n",
       "1  -0.597966 -0.341942 -0.213588 -0.240005 -0.244230 -0.314136 -0.180878  \n",
       "2  -0.391630 -0.250292 -0.191887 -0.240005 -0.244230 -0.248683 -0.012122  \n",
       "3  -0.156579 -0.221191 -0.169361 -0.228645 -0.237846 -0.244166 -0.237130  \n",
       "4  -0.331482 -0.221191  1.335034  0.271165  0.266434 -0.269039 -0.255187  "
      ]
     },
     "execution_count": 101,
     "metadata": {},
     "output_type": "execute_result"
    }
   ],
   "source": [
    "scaler = StandardScaler()\n",
    "rescaledX = scaler.fit_transform(XC)\n",
    "print(rescaledX[0:5,:])\n",
    "rescaledX= pd.DataFrame(rescaledX)\n",
    "rescaledX.columns = ['LIMIT_BAL','AGE','BILL_AMT1','BILL_AMT2','BILL_AMT3','BILL_AMT4','BILL_AMT5','BILL_AMT6','PAY_AMT1','PAY_AMT2','PAY_AMT3','PAY_AMT4','PAY_AMT5','PAY_AMT6']\n",
    "rescaledX.head()"
   ]
  },
  {
   "cell_type": "code",
   "execution_count": 102,
   "metadata": {},
   "outputs": [
    {
     "name": "stdout",
     "output_type": "stream",
     "text": [
      "<class 'pandas.core.frame.DataFrame'>\n",
      "RangeIndex: 30000 entries, 0 to 29999\n",
      "Data columns (total 83 columns):\n",
      "LIMIT_BAL                       30000 non-null int64\n",
      "AGE                             30000 non-null int64\n",
      "BILL_AMT1                       30000 non-null int64\n",
      "BILL_AMT2                       30000 non-null int64\n",
      "BILL_AMT3                       30000 non-null int64\n",
      "BILL_AMT4                       30000 non-null int64\n",
      "BILL_AMT5                       30000 non-null int64\n",
      "BILL_AMT6                       30000 non-null int64\n",
      "PAY_AMT1                        30000 non-null int64\n",
      "PAY_AMT2                        30000 non-null int64\n",
      "PAY_AMT3                        30000 non-null int64\n",
      "PAY_AMT4                        30000 non-null int64\n",
      "PAY_AMT5                        30000 non-null int64\n",
      "PAY_AMT6                        30000 non-null int64\n",
      "SEX_2                           30000 non-null uint8\n",
      "EDUCATION_1                     30000 non-null uint8\n",
      "EDUCATION_2                     30000 non-null uint8\n",
      "EDUCATION_3                     30000 non-null uint8\n",
      "EDUCATION_4                     30000 non-null uint8\n",
      "EDUCATION_5                     30000 non-null uint8\n",
      "EDUCATION_6                     30000 non-null uint8\n",
      "MARRIAGE_1                      30000 non-null uint8\n",
      "MARRIAGE_2                      30000 non-null uint8\n",
      "MARRIAGE_3                      30000 non-null uint8\n",
      "PAY_0_-1                        30000 non-null uint8\n",
      "PAY_0_0                         30000 non-null uint8\n",
      "PAY_0_1                         30000 non-null uint8\n",
      "PAY_0_2                         30000 non-null uint8\n",
      "PAY_0_3                         30000 non-null uint8\n",
      "PAY_0_4                         30000 non-null uint8\n",
      "PAY_0_5                         30000 non-null uint8\n",
      "PAY_0_6                         30000 non-null uint8\n",
      "PAY_0_7                         30000 non-null uint8\n",
      "PAY_0_8                         30000 non-null uint8\n",
      "PAY_2_-1                        30000 non-null uint8\n",
      "PAY_2_0                         30000 non-null uint8\n",
      "PAY_2_1                         30000 non-null uint8\n",
      "PAY_2_2                         30000 non-null uint8\n",
      "PAY_2_3                         30000 non-null uint8\n",
      "PAY_2_4                         30000 non-null uint8\n",
      "PAY_2_5                         30000 non-null uint8\n",
      "PAY_2_6                         30000 non-null uint8\n",
      "PAY_2_7                         30000 non-null uint8\n",
      "PAY_2_8                         30000 non-null uint8\n",
      "PAY_3_-1                        30000 non-null uint8\n",
      "PAY_3_0                         30000 non-null uint8\n",
      "PAY_3_1                         30000 non-null uint8\n",
      "PAY_3_2                         30000 non-null uint8\n",
      "PAY_3_3                         30000 non-null uint8\n",
      "PAY_3_4                         30000 non-null uint8\n",
      "PAY_3_5                         30000 non-null uint8\n",
      "PAY_3_6                         30000 non-null uint8\n",
      "PAY_3_7                         30000 non-null uint8\n",
      "PAY_3_8                         30000 non-null uint8\n",
      "PAY_4_-1                        30000 non-null uint8\n",
      "PAY_4_0                         30000 non-null uint8\n",
      "PAY_4_1                         30000 non-null uint8\n",
      "PAY_4_2                         30000 non-null uint8\n",
      "PAY_4_3                         30000 non-null uint8\n",
      "PAY_4_4                         30000 non-null uint8\n",
      "PAY_4_5                         30000 non-null uint8\n",
      "PAY_4_6                         30000 non-null uint8\n",
      "PAY_4_7                         30000 non-null uint8\n",
      "PAY_4_8                         30000 non-null uint8\n",
      "PAY_5_-1                        30000 non-null uint8\n",
      "PAY_5_0                         30000 non-null uint8\n",
      "PAY_5_2                         30000 non-null uint8\n",
      "PAY_5_3                         30000 non-null uint8\n",
      "PAY_5_4                         30000 non-null uint8\n",
      "PAY_5_5                         30000 non-null uint8\n",
      "PAY_5_6                         30000 non-null uint8\n",
      "PAY_5_7                         30000 non-null uint8\n",
      "PAY_5_8                         30000 non-null uint8\n",
      "PAY_6_-1                        30000 non-null uint8\n",
      "PAY_6_0                         30000 non-null uint8\n",
      "PAY_6_2                         30000 non-null uint8\n",
      "PAY_6_3                         30000 non-null uint8\n",
      "PAY_6_4                         30000 non-null uint8\n",
      "PAY_6_5                         30000 non-null uint8\n",
      "PAY_6_6                         30000 non-null uint8\n",
      "PAY_6_7                         30000 non-null uint8\n",
      "PAY_6_8                         30000 non-null uint8\n",
      "default payment next month_1    30000 non-null uint8\n",
      "dtypes: int64(14), uint8(69)\n",
      "memory usage: 5.2 MB\n"
     ]
    }
   ],
   "source": [
    "credit = pd.get_dummies(credit,drop_first=True)\n",
    "credit.info()"
   ]
  },
  {
   "cell_type": "code",
   "execution_count": 105,
   "metadata": {},
   "outputs": [
    {
     "data": {
      "text/html": [
       "<div>\n",
       "<style scoped>\n",
       "    .dataframe tbody tr th:only-of-type {\n",
       "        vertical-align: middle;\n",
       "    }\n",
       "\n",
       "    .dataframe tbody tr th {\n",
       "        vertical-align: top;\n",
       "    }\n",
       "\n",
       "    .dataframe thead th {\n",
       "        text-align: right;\n",
       "    }\n",
       "</style>\n",
       "<table border=\"1\" class=\"dataframe\">\n",
       "  <thead>\n",
       "    <tr style=\"text-align: right;\">\n",
       "      <th></th>\n",
       "      <th>SEX_2</th>\n",
       "      <th>EDUCATION_1</th>\n",
       "      <th>EDUCATION_2</th>\n",
       "      <th>EDUCATION_3</th>\n",
       "      <th>EDUCATION_4</th>\n",
       "      <th>EDUCATION_5</th>\n",
       "      <th>EDUCATION_6</th>\n",
       "      <th>MARRIAGE_1</th>\n",
       "      <th>MARRIAGE_2</th>\n",
       "      <th>MARRIAGE_3</th>\n",
       "      <th>...</th>\n",
       "      <th>PAY_6_-1</th>\n",
       "      <th>PAY_6_0</th>\n",
       "      <th>PAY_6_2</th>\n",
       "      <th>PAY_6_3</th>\n",
       "      <th>PAY_6_4</th>\n",
       "      <th>PAY_6_5</th>\n",
       "      <th>PAY_6_6</th>\n",
       "      <th>PAY_6_7</th>\n",
       "      <th>PAY_6_8</th>\n",
       "      <th>default payment next month_1</th>\n",
       "    </tr>\n",
       "  </thead>\n",
       "  <tbody>\n",
       "    <tr>\n",
       "      <td>0</td>\n",
       "      <td>1</td>\n",
       "      <td>0</td>\n",
       "      <td>1</td>\n",
       "      <td>0</td>\n",
       "      <td>0</td>\n",
       "      <td>0</td>\n",
       "      <td>0</td>\n",
       "      <td>1</td>\n",
       "      <td>0</td>\n",
       "      <td>0</td>\n",
       "      <td>...</td>\n",
       "      <td>0</td>\n",
       "      <td>0</td>\n",
       "      <td>0</td>\n",
       "      <td>0</td>\n",
       "      <td>0</td>\n",
       "      <td>0</td>\n",
       "      <td>0</td>\n",
       "      <td>0</td>\n",
       "      <td>0</td>\n",
       "      <td>1</td>\n",
       "    </tr>\n",
       "    <tr>\n",
       "      <td>1</td>\n",
       "      <td>1</td>\n",
       "      <td>0</td>\n",
       "      <td>1</td>\n",
       "      <td>0</td>\n",
       "      <td>0</td>\n",
       "      <td>0</td>\n",
       "      <td>0</td>\n",
       "      <td>0</td>\n",
       "      <td>1</td>\n",
       "      <td>0</td>\n",
       "      <td>...</td>\n",
       "      <td>0</td>\n",
       "      <td>0</td>\n",
       "      <td>1</td>\n",
       "      <td>0</td>\n",
       "      <td>0</td>\n",
       "      <td>0</td>\n",
       "      <td>0</td>\n",
       "      <td>0</td>\n",
       "      <td>0</td>\n",
       "      <td>1</td>\n",
       "    </tr>\n",
       "    <tr>\n",
       "      <td>2</td>\n",
       "      <td>1</td>\n",
       "      <td>0</td>\n",
       "      <td>1</td>\n",
       "      <td>0</td>\n",
       "      <td>0</td>\n",
       "      <td>0</td>\n",
       "      <td>0</td>\n",
       "      <td>0</td>\n",
       "      <td>1</td>\n",
       "      <td>0</td>\n",
       "      <td>...</td>\n",
       "      <td>0</td>\n",
       "      <td>1</td>\n",
       "      <td>0</td>\n",
       "      <td>0</td>\n",
       "      <td>0</td>\n",
       "      <td>0</td>\n",
       "      <td>0</td>\n",
       "      <td>0</td>\n",
       "      <td>0</td>\n",
       "      <td>0</td>\n",
       "    </tr>\n",
       "    <tr>\n",
       "      <td>3</td>\n",
       "      <td>1</td>\n",
       "      <td>0</td>\n",
       "      <td>1</td>\n",
       "      <td>0</td>\n",
       "      <td>0</td>\n",
       "      <td>0</td>\n",
       "      <td>0</td>\n",
       "      <td>1</td>\n",
       "      <td>0</td>\n",
       "      <td>0</td>\n",
       "      <td>...</td>\n",
       "      <td>0</td>\n",
       "      <td>1</td>\n",
       "      <td>0</td>\n",
       "      <td>0</td>\n",
       "      <td>0</td>\n",
       "      <td>0</td>\n",
       "      <td>0</td>\n",
       "      <td>0</td>\n",
       "      <td>0</td>\n",
       "      <td>0</td>\n",
       "    </tr>\n",
       "    <tr>\n",
       "      <td>4</td>\n",
       "      <td>0</td>\n",
       "      <td>0</td>\n",
       "      <td>1</td>\n",
       "      <td>0</td>\n",
       "      <td>0</td>\n",
       "      <td>0</td>\n",
       "      <td>0</td>\n",
       "      <td>1</td>\n",
       "      <td>0</td>\n",
       "      <td>0</td>\n",
       "      <td>...</td>\n",
       "      <td>0</td>\n",
       "      <td>1</td>\n",
       "      <td>0</td>\n",
       "      <td>0</td>\n",
       "      <td>0</td>\n",
       "      <td>0</td>\n",
       "      <td>0</td>\n",
       "      <td>0</td>\n",
       "      <td>0</td>\n",
       "      <td>0</td>\n",
       "    </tr>\n",
       "  </tbody>\n",
       "</table>\n",
       "<p>5 rows × 69 columns</p>\n",
       "</div>"
      ],
      "text/plain": [
       "   SEX_2  EDUCATION_1  EDUCATION_2  EDUCATION_3  EDUCATION_4  EDUCATION_5  \\\n",
       "0      1            0            1            0            0            0   \n",
       "1      1            0            1            0            0            0   \n",
       "2      1            0            1            0            0            0   \n",
       "3      1            0            1            0            0            0   \n",
       "4      0            0            1            0            0            0   \n",
       "\n",
       "   EDUCATION_6  MARRIAGE_1  MARRIAGE_2  MARRIAGE_3  ...  PAY_6_-1  PAY_6_0  \\\n",
       "0            0           1           0           0  ...         0        0   \n",
       "1            0           0           1           0  ...         0        0   \n",
       "2            0           0           1           0  ...         0        1   \n",
       "3            0           1           0           0  ...         0        1   \n",
       "4            0           1           0           0  ...         0        1   \n",
       "\n",
       "   PAY_6_2  PAY_6_3  PAY_6_4  PAY_6_5  PAY_6_6  PAY_6_7  PAY_6_8  \\\n",
       "0        0        0        0        0        0        0        0   \n",
       "1        1        0        0        0        0        0        0   \n",
       "2        0        0        0        0        0        0        0   \n",
       "3        0        0        0        0        0        0        0   \n",
       "4        0        0        0        0        0        0        0   \n",
       "\n",
       "   default payment next month_1  \n",
       "0                             1  \n",
       "1                             1  \n",
       "2                             0  \n",
       "3                             0  \n",
       "4                             0  \n",
       "\n",
       "[5 rows x 69 columns]"
      ]
     },
     "execution_count": 105,
     "metadata": {},
     "output_type": "execute_result"
    }
   ],
   "source": [
    "credit1=credit.drop(['LIMIT_BAL','AGE','BILL_AMT1','BILL_AMT2','BILL_AMT3','BILL_AMT4','BILL_AMT5','BILL_AMT6','PAY_AMT1','PAY_AMT2','PAY_AMT3','PAY_AMT4','PAY_AMT5','PAY_AMT6'], axis=1,)\n",
    "credit1.head()"
   ]
  },
  {
   "cell_type": "code",
   "execution_count": 106,
   "metadata": {},
   "outputs": [
    {
     "data": {
      "text/html": [
       "<div>\n",
       "<style scoped>\n",
       "    .dataframe tbody tr th:only-of-type {\n",
       "        vertical-align: middle;\n",
       "    }\n",
       "\n",
       "    .dataframe tbody tr th {\n",
       "        vertical-align: top;\n",
       "    }\n",
       "\n",
       "    .dataframe thead th {\n",
       "        text-align: right;\n",
       "    }\n",
       "</style>\n",
       "<table border=\"1\" class=\"dataframe\">\n",
       "  <thead>\n",
       "    <tr style=\"text-align: right;\">\n",
       "      <th></th>\n",
       "      <th>LIMIT_BAL</th>\n",
       "      <th>AGE</th>\n",
       "      <th>BILL_AMT1</th>\n",
       "      <th>BILL_AMT2</th>\n",
       "      <th>BILL_AMT3</th>\n",
       "      <th>BILL_AMT4</th>\n",
       "      <th>BILL_AMT5</th>\n",
       "      <th>BILL_AMT6</th>\n",
       "      <th>PAY_AMT1</th>\n",
       "      <th>PAY_AMT2</th>\n",
       "      <th>...</th>\n",
       "      <th>PAY_6_-1</th>\n",
       "      <th>PAY_6_0</th>\n",
       "      <th>PAY_6_2</th>\n",
       "      <th>PAY_6_3</th>\n",
       "      <th>PAY_6_4</th>\n",
       "      <th>PAY_6_5</th>\n",
       "      <th>PAY_6_6</th>\n",
       "      <th>PAY_6_7</th>\n",
       "      <th>PAY_6_8</th>\n",
       "      <th>default payment next month_1</th>\n",
       "    </tr>\n",
       "  </thead>\n",
       "  <tbody>\n",
       "    <tr>\n",
       "      <td>0</td>\n",
       "      <td>-1.136720</td>\n",
       "      <td>-1.246020</td>\n",
       "      <td>-0.642501</td>\n",
       "      <td>-0.647399</td>\n",
       "      <td>-0.667993</td>\n",
       "      <td>-0.672497</td>\n",
       "      <td>-0.663059</td>\n",
       "      <td>-0.652724</td>\n",
       "      <td>-0.341942</td>\n",
       "      <td>-0.227086</td>\n",
       "      <td>...</td>\n",
       "      <td>0</td>\n",
       "      <td>0</td>\n",
       "      <td>0</td>\n",
       "      <td>0</td>\n",
       "      <td>0</td>\n",
       "      <td>0</td>\n",
       "      <td>0</td>\n",
       "      <td>0</td>\n",
       "      <td>0</td>\n",
       "      <td>1</td>\n",
       "    </tr>\n",
       "    <tr>\n",
       "      <td>1</td>\n",
       "      <td>-0.365981</td>\n",
       "      <td>-1.029047</td>\n",
       "      <td>-0.659219</td>\n",
       "      <td>-0.666747</td>\n",
       "      <td>-0.639254</td>\n",
       "      <td>-0.621636</td>\n",
       "      <td>-0.606229</td>\n",
       "      <td>-0.597966</td>\n",
       "      <td>-0.341942</td>\n",
       "      <td>-0.213588</td>\n",
       "      <td>...</td>\n",
       "      <td>0</td>\n",
       "      <td>0</td>\n",
       "      <td>1</td>\n",
       "      <td>0</td>\n",
       "      <td>0</td>\n",
       "      <td>0</td>\n",
       "      <td>0</td>\n",
       "      <td>0</td>\n",
       "      <td>0</td>\n",
       "      <td>1</td>\n",
       "    </tr>\n",
       "    <tr>\n",
       "      <td>2</td>\n",
       "      <td>-0.597202</td>\n",
       "      <td>-0.161156</td>\n",
       "      <td>-0.298560</td>\n",
       "      <td>-0.493899</td>\n",
       "      <td>-0.482408</td>\n",
       "      <td>-0.449730</td>\n",
       "      <td>-0.417188</td>\n",
       "      <td>-0.391630</td>\n",
       "      <td>-0.250292</td>\n",
       "      <td>-0.191887</td>\n",
       "      <td>...</td>\n",
       "      <td>0</td>\n",
       "      <td>1</td>\n",
       "      <td>0</td>\n",
       "      <td>0</td>\n",
       "      <td>0</td>\n",
       "      <td>0</td>\n",
       "      <td>0</td>\n",
       "      <td>0</td>\n",
       "      <td>0</td>\n",
       "      <td>0</td>\n",
       "    </tr>\n",
       "    <tr>\n",
       "      <td>3</td>\n",
       "      <td>-0.905498</td>\n",
       "      <td>0.164303</td>\n",
       "      <td>-0.057491</td>\n",
       "      <td>-0.013293</td>\n",
       "      <td>0.032846</td>\n",
       "      <td>-0.232373</td>\n",
       "      <td>-0.186729</td>\n",
       "      <td>-0.156579</td>\n",
       "      <td>-0.221191</td>\n",
       "      <td>-0.169361</td>\n",
       "      <td>...</td>\n",
       "      <td>0</td>\n",
       "      <td>1</td>\n",
       "      <td>0</td>\n",
       "      <td>0</td>\n",
       "      <td>0</td>\n",
       "      <td>0</td>\n",
       "      <td>0</td>\n",
       "      <td>0</td>\n",
       "      <td>0</td>\n",
       "      <td>0</td>\n",
       "    </tr>\n",
       "    <tr>\n",
       "      <td>4</td>\n",
       "      <td>-0.905498</td>\n",
       "      <td>2.334029</td>\n",
       "      <td>-0.578618</td>\n",
       "      <td>-0.611318</td>\n",
       "      <td>-0.161189</td>\n",
       "      <td>-0.346997</td>\n",
       "      <td>-0.348137</td>\n",
       "      <td>-0.331482</td>\n",
       "      <td>-0.221191</td>\n",
       "      <td>1.335034</td>\n",
       "      <td>...</td>\n",
       "      <td>0</td>\n",
       "      <td>1</td>\n",
       "      <td>0</td>\n",
       "      <td>0</td>\n",
       "      <td>0</td>\n",
       "      <td>0</td>\n",
       "      <td>0</td>\n",
       "      <td>0</td>\n",
       "      <td>0</td>\n",
       "      <td>0</td>\n",
       "    </tr>\n",
       "  </tbody>\n",
       "</table>\n",
       "<p>5 rows × 83 columns</p>\n",
       "</div>"
      ],
      "text/plain": [
       "   LIMIT_BAL       AGE  BILL_AMT1  BILL_AMT2  BILL_AMT3  BILL_AMT4  BILL_AMT5  \\\n",
       "0  -1.136720 -1.246020  -0.642501  -0.647399  -0.667993  -0.672497  -0.663059   \n",
       "1  -0.365981 -1.029047  -0.659219  -0.666747  -0.639254  -0.621636  -0.606229   \n",
       "2  -0.597202 -0.161156  -0.298560  -0.493899  -0.482408  -0.449730  -0.417188   \n",
       "3  -0.905498  0.164303  -0.057491  -0.013293   0.032846  -0.232373  -0.186729   \n",
       "4  -0.905498  2.334029  -0.578618  -0.611318  -0.161189  -0.346997  -0.348137   \n",
       "\n",
       "   BILL_AMT6  PAY_AMT1  PAY_AMT2  ...  PAY_6_-1  PAY_6_0  PAY_6_2  PAY_6_3  \\\n",
       "0  -0.652724 -0.341942 -0.227086  ...         0        0        0        0   \n",
       "1  -0.597966 -0.341942 -0.213588  ...         0        0        1        0   \n",
       "2  -0.391630 -0.250292 -0.191887  ...         0        1        0        0   \n",
       "3  -0.156579 -0.221191 -0.169361  ...         0        1        0        0   \n",
       "4  -0.331482 -0.221191  1.335034  ...         0        1        0        0   \n",
       "\n",
       "   PAY_6_4  PAY_6_5  PAY_6_6  PAY_6_7  PAY_6_8  default payment next month_1  \n",
       "0        0        0        0        0        0                             1  \n",
       "1        0        0        0        0        0                             1  \n",
       "2        0        0        0        0        0                             0  \n",
       "3        0        0        0        0        0                             0  \n",
       "4        0        0        0        0        0                             0  \n",
       "\n",
       "[5 rows x 83 columns]"
      ]
     },
     "execution_count": 106,
     "metadata": {},
     "output_type": "execute_result"
    }
   ],
   "source": [
    "credit_df = pd.concat([rescaledX, credit1], axis=1)\n",
    "credit_df.head()"
   ]
  },
  {
   "cell_type": "code",
   "execution_count": 107,
   "metadata": {},
   "outputs": [
    {
     "name": "stdout",
     "output_type": "stream",
     "text": [
      "<class 'pandas.core.frame.DataFrame'>\n",
      "RangeIndex: 30000 entries, 0 to 29999\n",
      "Data columns (total 83 columns):\n",
      "LIMIT_BAL                       30000 non-null float64\n",
      "AGE                             30000 non-null float64\n",
      "BILL_AMT1                       30000 non-null float64\n",
      "BILL_AMT2                       30000 non-null float64\n",
      "BILL_AMT3                       30000 non-null float64\n",
      "BILL_AMT4                       30000 non-null float64\n",
      "BILL_AMT5                       30000 non-null float64\n",
      "BILL_AMT6                       30000 non-null float64\n",
      "PAY_AMT1                        30000 non-null float64\n",
      "PAY_AMT2                        30000 non-null float64\n",
      "PAY_AMT3                        30000 non-null float64\n",
      "PAY_AMT4                        30000 non-null float64\n",
      "PAY_AMT5                        30000 non-null float64\n",
      "PAY_AMT6                        30000 non-null float64\n",
      "SEX_2                           30000 non-null uint8\n",
      "EDUCATION_1                     30000 non-null uint8\n",
      "EDUCATION_2                     30000 non-null uint8\n",
      "EDUCATION_3                     30000 non-null uint8\n",
      "EDUCATION_4                     30000 non-null uint8\n",
      "EDUCATION_5                     30000 non-null uint8\n",
      "EDUCATION_6                     30000 non-null uint8\n",
      "MARRIAGE_1                      30000 non-null uint8\n",
      "MARRIAGE_2                      30000 non-null uint8\n",
      "MARRIAGE_3                      30000 non-null uint8\n",
      "PAY_0_-1                        30000 non-null uint8\n",
      "PAY_0_0                         30000 non-null uint8\n",
      "PAY_0_1                         30000 non-null uint8\n",
      "PAY_0_2                         30000 non-null uint8\n",
      "PAY_0_3                         30000 non-null uint8\n",
      "PAY_0_4                         30000 non-null uint8\n",
      "PAY_0_5                         30000 non-null uint8\n",
      "PAY_0_6                         30000 non-null uint8\n",
      "PAY_0_7                         30000 non-null uint8\n",
      "PAY_0_8                         30000 non-null uint8\n",
      "PAY_2_-1                        30000 non-null uint8\n",
      "PAY_2_0                         30000 non-null uint8\n",
      "PAY_2_1                         30000 non-null uint8\n",
      "PAY_2_2                         30000 non-null uint8\n",
      "PAY_2_3                         30000 non-null uint8\n",
      "PAY_2_4                         30000 non-null uint8\n",
      "PAY_2_5                         30000 non-null uint8\n",
      "PAY_2_6                         30000 non-null uint8\n",
      "PAY_2_7                         30000 non-null uint8\n",
      "PAY_2_8                         30000 non-null uint8\n",
      "PAY_3_-1                        30000 non-null uint8\n",
      "PAY_3_0                         30000 non-null uint8\n",
      "PAY_3_1                         30000 non-null uint8\n",
      "PAY_3_2                         30000 non-null uint8\n",
      "PAY_3_3                         30000 non-null uint8\n",
      "PAY_3_4                         30000 non-null uint8\n",
      "PAY_3_5                         30000 non-null uint8\n",
      "PAY_3_6                         30000 non-null uint8\n",
      "PAY_3_7                         30000 non-null uint8\n",
      "PAY_3_8                         30000 non-null uint8\n",
      "PAY_4_-1                        30000 non-null uint8\n",
      "PAY_4_0                         30000 non-null uint8\n",
      "PAY_4_1                         30000 non-null uint8\n",
      "PAY_4_2                         30000 non-null uint8\n",
      "PAY_4_3                         30000 non-null uint8\n",
      "PAY_4_4                         30000 non-null uint8\n",
      "PAY_4_5                         30000 non-null uint8\n",
      "PAY_4_6                         30000 non-null uint8\n",
      "PAY_4_7                         30000 non-null uint8\n",
      "PAY_4_8                         30000 non-null uint8\n",
      "PAY_5_-1                        30000 non-null uint8\n",
      "PAY_5_0                         30000 non-null uint8\n",
      "PAY_5_2                         30000 non-null uint8\n",
      "PAY_5_3                         30000 non-null uint8\n",
      "PAY_5_4                         30000 non-null uint8\n",
      "PAY_5_5                         30000 non-null uint8\n",
      "PAY_5_6                         30000 non-null uint8\n",
      "PAY_5_7                         30000 non-null uint8\n",
      "PAY_5_8                         30000 non-null uint8\n",
      "PAY_6_-1                        30000 non-null uint8\n",
      "PAY_6_0                         30000 non-null uint8\n",
      "PAY_6_2                         30000 non-null uint8\n",
      "PAY_6_3                         30000 non-null uint8\n",
      "PAY_6_4                         30000 non-null uint8\n",
      "PAY_6_5                         30000 non-null uint8\n",
      "PAY_6_6                         30000 non-null uint8\n",
      "PAY_6_7                         30000 non-null uint8\n",
      "PAY_6_8                         30000 non-null uint8\n",
      "default payment next month_1    30000 non-null uint8\n",
      "dtypes: float64(14), uint8(69)\n",
      "memory usage: 5.2 MB\n"
     ]
    }
   ],
   "source": [
    "credit_df.info()"
   ]
  },
  {
   "cell_type": "code",
   "execution_count": 108,
   "metadata": {},
   "outputs": [],
   "source": [
    "Y = credit_df['default payment next month_1'].values\n",
    "X=credit_df.drop('default payment next month_1', axis=1).values"
   ]
  },
  {
   "cell_type": "markdown",
   "metadata": {},
   "source": [
    "### 2.5 - Feature Engineering"
   ]
  },
  {
   "cell_type": "code",
   "execution_count": 109,
   "metadata": {},
   "outputs": [
    {
     "name": "stdout",
     "output_type": "stream",
     "text": [
      "Num Features: 41\n",
      "Selected Features: [ True False False False False False False False False False False False\n",
      " False False False False False False  True  True False  True  True  True\n",
      "  True False  True  True  True  True  True  True  True  True  True False\n",
      "  True False False  True  True  True  True  True False False False  True\n",
      "  True False  True  True  True False False False  True  True False  True\n",
      "  True  True False  True False False  True False  True False False  True\n",
      " False  True  True False  True False False  True False  True]\n",
      "Feature Ranking: [ 1 34 16 15 11 40 38 27  9  7 36 35 33 29 12  3  2  4  1  1 37  1  1  1\n",
      "  1 10  1  1  1  1  1  1  1  1  1 24  1 25 23  1  1  1  1  1 39 32 28  1\n",
      "  1 14  1  1  1 18 20 31  1  1  8  1  1  1 17  1 13 42  1 26  1 19  5  1\n",
      "  6  1  1 30  1 41 22  1 21  1]\n"
     ]
    }
   ],
   "source": [
    "model = LogisticRegression()\n",
    "rfe = RFE(model)\n",
    "rfem = rfe.fit(X, Y)\n",
    "print(\"Num Features: %d\" % rfem.n_features_)\n",
    "print(\"Selected Features: %s\" % rfem.support_)\n",
    "print(\"Feature Ranking: %s\" % rfem.ranking_)"
   ]
  },
  {
   "cell_type": "code",
   "execution_count": 110,
   "metadata": {},
   "outputs": [
    {
     "data": {
      "text/html": [
       "<div>\n",
       "<style scoped>\n",
       "    .dataframe tbody tr th:only-of-type {\n",
       "        vertical-align: middle;\n",
       "    }\n",
       "\n",
       "    .dataframe tbody tr th {\n",
       "        vertical-align: top;\n",
       "    }\n",
       "\n",
       "    .dataframe thead th {\n",
       "        text-align: right;\n",
       "    }\n",
       "</style>\n",
       "<table border=\"1\" class=\"dataframe\">\n",
       "  <thead>\n",
       "    <tr style=\"text-align: right;\">\n",
       "      <th></th>\n",
       "      <th>LIMIT_BAL</th>\n",
       "      <th>EDUCATION_4</th>\n",
       "      <th>EDUCATION_5</th>\n",
       "      <th>MARRIAGE_1</th>\n",
       "      <th>MARRIAGE_2</th>\n",
       "      <th>MARRIAGE_3</th>\n",
       "      <th>PAY_0_-1</th>\n",
       "      <th>PAY_0_1</th>\n",
       "      <th>PAY_0_2</th>\n",
       "      <th>PAY_0_3</th>\n",
       "      <th>...</th>\n",
       "      <th>PAY_4_6</th>\n",
       "      <th>PAY_4_8</th>\n",
       "      <th>PAY_5_2</th>\n",
       "      <th>PAY_5_4</th>\n",
       "      <th>PAY_5_7</th>\n",
       "      <th>PAY_6_-1</th>\n",
       "      <th>PAY_6_0</th>\n",
       "      <th>PAY_6_3</th>\n",
       "      <th>PAY_6_6</th>\n",
       "      <th>PAY_6_8</th>\n",
       "    </tr>\n",
       "  </thead>\n",
       "  <tbody>\n",
       "    <tr>\n",
       "      <td>0</td>\n",
       "      <td>-1.136720</td>\n",
       "      <td>0</td>\n",
       "      <td>0</td>\n",
       "      <td>1</td>\n",
       "      <td>0</td>\n",
       "      <td>0</td>\n",
       "      <td>0</td>\n",
       "      <td>0</td>\n",
       "      <td>1</td>\n",
       "      <td>0</td>\n",
       "      <td>...</td>\n",
       "      <td>0</td>\n",
       "      <td>0</td>\n",
       "      <td>0</td>\n",
       "      <td>0</td>\n",
       "      <td>0</td>\n",
       "      <td>0</td>\n",
       "      <td>0</td>\n",
       "      <td>0</td>\n",
       "      <td>0</td>\n",
       "      <td>0</td>\n",
       "    </tr>\n",
       "    <tr>\n",
       "      <td>1</td>\n",
       "      <td>-0.365981</td>\n",
       "      <td>0</td>\n",
       "      <td>0</td>\n",
       "      <td>0</td>\n",
       "      <td>1</td>\n",
       "      <td>0</td>\n",
       "      <td>1</td>\n",
       "      <td>0</td>\n",
       "      <td>0</td>\n",
       "      <td>0</td>\n",
       "      <td>...</td>\n",
       "      <td>0</td>\n",
       "      <td>0</td>\n",
       "      <td>0</td>\n",
       "      <td>0</td>\n",
       "      <td>0</td>\n",
       "      <td>0</td>\n",
       "      <td>0</td>\n",
       "      <td>0</td>\n",
       "      <td>0</td>\n",
       "      <td>0</td>\n",
       "    </tr>\n",
       "    <tr>\n",
       "      <td>2</td>\n",
       "      <td>-0.597202</td>\n",
       "      <td>0</td>\n",
       "      <td>0</td>\n",
       "      <td>0</td>\n",
       "      <td>1</td>\n",
       "      <td>0</td>\n",
       "      <td>0</td>\n",
       "      <td>0</td>\n",
       "      <td>0</td>\n",
       "      <td>0</td>\n",
       "      <td>...</td>\n",
       "      <td>0</td>\n",
       "      <td>0</td>\n",
       "      <td>0</td>\n",
       "      <td>0</td>\n",
       "      <td>0</td>\n",
       "      <td>0</td>\n",
       "      <td>1</td>\n",
       "      <td>0</td>\n",
       "      <td>0</td>\n",
       "      <td>0</td>\n",
       "    </tr>\n",
       "    <tr>\n",
       "      <td>3</td>\n",
       "      <td>-0.905498</td>\n",
       "      <td>0</td>\n",
       "      <td>0</td>\n",
       "      <td>1</td>\n",
       "      <td>0</td>\n",
       "      <td>0</td>\n",
       "      <td>0</td>\n",
       "      <td>0</td>\n",
       "      <td>0</td>\n",
       "      <td>0</td>\n",
       "      <td>...</td>\n",
       "      <td>0</td>\n",
       "      <td>0</td>\n",
       "      <td>0</td>\n",
       "      <td>0</td>\n",
       "      <td>0</td>\n",
       "      <td>0</td>\n",
       "      <td>1</td>\n",
       "      <td>0</td>\n",
       "      <td>0</td>\n",
       "      <td>0</td>\n",
       "    </tr>\n",
       "    <tr>\n",
       "      <td>4</td>\n",
       "      <td>-0.905498</td>\n",
       "      <td>0</td>\n",
       "      <td>0</td>\n",
       "      <td>1</td>\n",
       "      <td>0</td>\n",
       "      <td>0</td>\n",
       "      <td>1</td>\n",
       "      <td>0</td>\n",
       "      <td>0</td>\n",
       "      <td>0</td>\n",
       "      <td>...</td>\n",
       "      <td>0</td>\n",
       "      <td>0</td>\n",
       "      <td>0</td>\n",
       "      <td>0</td>\n",
       "      <td>0</td>\n",
       "      <td>0</td>\n",
       "      <td>1</td>\n",
       "      <td>0</td>\n",
       "      <td>0</td>\n",
       "      <td>0</td>\n",
       "    </tr>\n",
       "  </tbody>\n",
       "</table>\n",
       "<p>5 rows × 41 columns</p>\n",
       "</div>"
      ],
      "text/plain": [
       "   LIMIT_BAL  EDUCATION_4  EDUCATION_5  MARRIAGE_1  MARRIAGE_2  MARRIAGE_3  \\\n",
       "0  -1.136720            0            0           1           0           0   \n",
       "1  -0.365981            0            0           0           1           0   \n",
       "2  -0.597202            0            0           0           1           0   \n",
       "3  -0.905498            0            0           1           0           0   \n",
       "4  -0.905498            0            0           1           0           0   \n",
       "\n",
       "   PAY_0_-1  PAY_0_1  PAY_0_2  PAY_0_3  ...  PAY_4_6  PAY_4_8  PAY_5_2  \\\n",
       "0         0        0        1        0  ...        0        0        0   \n",
       "1         1        0        0        0  ...        0        0        0   \n",
       "2         0        0        0        0  ...        0        0        0   \n",
       "3         0        0        0        0  ...        0        0        0   \n",
       "4         1        0        0        0  ...        0        0        0   \n",
       "\n",
       "   PAY_5_4  PAY_5_7  PAY_6_-1  PAY_6_0  PAY_6_3  PAY_6_6  PAY_6_8  \n",
       "0        0        0         0        0        0        0        0  \n",
       "1        0        0         0        0        0        0        0  \n",
       "2        0        0         0        1        0        0        0  \n",
       "3        0        0         0        1        0        0        0  \n",
       "4        0        0         0        1        0        0        0  \n",
       "\n",
       "[5 rows x 41 columns]"
      ]
     },
     "execution_count": 110,
     "metadata": {},
     "output_type": "execute_result"
    }
   ],
   "source": [
    "Xr=credit_df.iloc[:,[0,18,19,21,22,23,24,26,27,28,29,30,31,32,33,34,36,39,40,41,42,43,47,48,50,51,52,56,57,59,60,61,63,66,68,71,73,74,76,79,81]]\n",
    "Xr.head()"
   ]
  },
  {
   "cell_type": "code",
   "execution_count": 111,
   "metadata": {},
   "outputs": [
    {
     "name": "stdout",
     "output_type": "stream",
     "text": [
      "<class 'pandas.core.frame.DataFrame'>\n",
      "RangeIndex: 30000 entries, 0 to 29999\n",
      "Data columns (total 41 columns):\n",
      "LIMIT_BAL      30000 non-null float64\n",
      "EDUCATION_4    30000 non-null uint8\n",
      "EDUCATION_5    30000 non-null uint8\n",
      "MARRIAGE_1     30000 non-null uint8\n",
      "MARRIAGE_2     30000 non-null uint8\n",
      "MARRIAGE_3     30000 non-null uint8\n",
      "PAY_0_-1       30000 non-null uint8\n",
      "PAY_0_1        30000 non-null uint8\n",
      "PAY_0_2        30000 non-null uint8\n",
      "PAY_0_3        30000 non-null uint8\n",
      "PAY_0_4        30000 non-null uint8\n",
      "PAY_0_5        30000 non-null uint8\n",
      "PAY_0_6        30000 non-null uint8\n",
      "PAY_0_7        30000 non-null uint8\n",
      "PAY_0_8        30000 non-null uint8\n",
      "PAY_2_-1       30000 non-null uint8\n",
      "PAY_2_1        30000 non-null uint8\n",
      "PAY_2_4        30000 non-null uint8\n",
      "PAY_2_5        30000 non-null uint8\n",
      "PAY_2_6        30000 non-null uint8\n",
      "PAY_2_7        30000 non-null uint8\n",
      "PAY_2_8        30000 non-null uint8\n",
      "PAY_3_2        30000 non-null uint8\n",
      "PAY_3_3        30000 non-null uint8\n",
      "PAY_3_5        30000 non-null uint8\n",
      "PAY_3_6        30000 non-null uint8\n",
      "PAY_3_7        30000 non-null uint8\n",
      "PAY_4_1        30000 non-null uint8\n",
      "PAY_4_2        30000 non-null uint8\n",
      "PAY_4_4        30000 non-null uint8\n",
      "PAY_4_5        30000 non-null uint8\n",
      "PAY_4_6        30000 non-null uint8\n",
      "PAY_4_8        30000 non-null uint8\n",
      "PAY_5_2        30000 non-null uint8\n",
      "PAY_5_4        30000 non-null uint8\n",
      "PAY_5_7        30000 non-null uint8\n",
      "PAY_6_-1       30000 non-null uint8\n",
      "PAY_6_0        30000 non-null uint8\n",
      "PAY_6_3        30000 non-null uint8\n",
      "PAY_6_6        30000 non-null uint8\n",
      "PAY_6_8        30000 non-null uint8\n",
      "dtypes: float64(1), uint8(40)\n",
      "memory usage: 1.4 MB\n"
     ]
    }
   ],
   "source": [
    "Xr.info()"
   ]
  },
  {
   "cell_type": "markdown",
   "metadata": {},
   "source": [
    "### 2.6 - Classification\n"
   ]
  },
  {
   "cell_type": "code",
   "execution_count": 112,
   "metadata": {},
   "outputs": [],
   "source": [
    "X1=Xr.values\n",
    "Y = credit_df['default payment next month_1'].values"
   ]
  },
  {
   "cell_type": "code",
   "execution_count": 113,
   "metadata": {},
   "outputs": [],
   "source": [
    "# Create training and test set\n",
    "X_train, X_test, y_train, y_test = train_test_split(X1,Y,test_size=0.3,random_state=7)"
   ]
  },
  {
   "cell_type": "code",
   "execution_count": 114,
   "metadata": {},
   "outputs": [
    {
     "name": "stdout",
     "output_type": "stream",
     "text": [
      "LR: 0.820095 (0.011250)\n",
      "KNN: 0.795952 (0.010843)\n",
      "CART: 0.801286 (0.010710)\n",
      "NB: 0.794476 (0.012217)\n",
      "SVM: 0.818286 (0.011138)\n"
     ]
    },
    {
     "data": {
      "image/png": "[encoded data removed]",
      "text/plain": [
       "<Figure size 432x288 with 1 Axes>"
      ]
     },
     "metadata": {
      "needs_background": "light"
     },
     "output_type": "display_data"
    }
   ],
   "source": [
    "# prepare models\n",
    "models = []\n",
    "models.append(('LR', LogisticRegression()))\n",
    "models.append(('KNN', KNeighborsClassifier()))\n",
    "models.append(('CART', DecisionTreeClassifier()))\n",
    "models.append(('NB', GaussianNB()))\n",
    "models.append(('SVM', SVC()))\n",
    "# evaluate each model in turn\n",
    "results = []\n",
    "names = []\n",
    "scoring = 'accuracy'\n",
    "for name, model in models:\n",
    "    kfold = KFold(n_splits=10, random_state=7)\n",
    "    cv_results = cross_val_score(model, X_train, y_train, cv=kfold, scoring=scoring)\n",
    "    results.append(cv_results)\n",
    "    names.append(name)\n",
    "    msg = \"%s: %f (%f)\" % (name, cv_results.mean(), cv_results.std())\n",
    "    print(msg)\n",
    "# boxplot algorithm comparison\n",
    "fig = plt.figure()\n",
    "fig.suptitle('Algorithm Comparison')\n",
    "ax = fig.add_subplot(111)\n",
    "plt.boxplot(results)\n",
    "ax.set_xticklabels(names)\n",
    "plt.show()"
   ]
  },
  {
   "cell_type": "markdown",
   "metadata": {},
   "source": [
    "### 2.7 - Improve Performance with Ensembles"
   ]
  },
  {
   "cell_type": "code",
   "execution_count": 117,
   "metadata": {},
   "outputs": [
    {
     "name": "stdout",
     "output_type": "stream",
     "text": [
      "0.8205238095238094\n"
     ]
    }
   ],
   "source": [
    "# Stochastic Gradient Boosting Classification\n",
    "num_trees = 100\n",
    "kfold = KFold(n_splits=10, random_state=7)\n",
    "model = GradientBoostingClassifier(n_estimators=num_trees, random_state=7)\n",
    "results = cross_val_score(model, X_train, y_train, cv=kfold)\n",
    "print(results.mean())"
   ]
  },
  {
   "cell_type": "code",
   "execution_count": 118,
   "metadata": {},
   "outputs": [
    {
     "name": "stdout",
     "output_type": "stream",
     "text": [
      "0.8027142857142857\n"
     ]
    }
   ],
   "source": [
    "# Random Forest Classification\n",
    "num_trees = 100\n",
    "max_features = 10\n",
    "kfold = KFold(n_splits=10, random_state=7)\n",
    "model = RandomForestClassifier(n_estimators=num_trees, max_features=max_features)\n",
    "results = cross_val_score(model, X_train, y_train, cv=kfold)\n",
    "print(results.mean())"
   ]
  },
  {
   "cell_type": "code",
   "execution_count": 119,
   "metadata": {},
   "outputs": [
    {
     "name": "stdout",
     "output_type": "stream",
     "text": [
      "0.7998571428571428\n"
     ]
    }
   ],
   "source": [
    "# Extra Trees Classification\n",
    "num_trees = 100\n",
    "max_features = 7\n",
    "kfold = KFold(n_splits=10, random_state=7)\n",
    "model = ExtraTreesClassifier(n_estimators=num_trees, max_features=max_features)\n",
    "results = cross_val_score(model, X_train, y_train, cv=kfold)\n",
    "print(results.mean())"
   ]
  },
  {
   "cell_type": "code",
   "execution_count": 120,
   "metadata": {},
   "outputs": [
    {
     "name": "stdout",
     "output_type": "stream",
     "text": [
      "0.8007142857142856\n"
     ]
    }
   ],
   "source": [
    "# Bagged Decision Trees for Classification\n",
    "kfold = KFold(n_splits=10, random_state=7)\n",
    "cart = DecisionTreeClassifier()\n",
    "num_trees = 100\n",
    "model = BaggingClassifier(base_estimator=cart, n_estimators=num_trees, random_state=7)\n",
    "results = cross_val_score(model, X_train, y_train, cv=kfold)\n",
    "print(results.mean())"
   ]
  },
  {
   "cell_type": "markdown",
   "metadata": {},
   "source": [
    "### 2.8 - Model Tuning"
   ]
  },
  {
   "cell_type": "code",
   "execution_count": 121,
   "metadata": {},
   "outputs": [
    {
     "name": "stdout",
     "output_type": "stream",
     "text": [
      "Best: 0.820524 using {'learning_rate': 0.1, 'n_estimators': 100}\n",
      "0.778333 (0.012212) with: {'learning_rate': 0.001, 'n_estimators': 50}\n",
      "0.778333 (0.012212) with: {'learning_rate': 0.001, 'n_estimators': 100}\n",
      "0.778333 (0.012212) with: {'learning_rate': 0.001, 'n_estimators': 150}\n",
      "0.778333 (0.012212) with: {'learning_rate': 0.001, 'n_estimators': 200}\n",
      "0.778333 (0.012212) with: {'learning_rate': 0.001, 'n_estimators': 250}\n",
      "0.778333 (0.012212) with: {'learning_rate': 0.001, 'n_estimators': 300}\n",
      "0.778333 (0.012212) with: {'learning_rate': 0.001, 'n_estimators': 350}\n",
      "0.778333 (0.012212) with: {'learning_rate': 0.001, 'n_estimators': 400}\n",
      "0.778333 (0.012212) with: {'learning_rate': 0.01, 'n_estimators': 50}\n",
      "0.817000 (0.010844) with: {'learning_rate': 0.01, 'n_estimators': 100}\n",
      "0.818143 (0.010531) with: {'learning_rate': 0.01, 'n_estimators': 150}\n",
      "0.818238 (0.010550) with: {'learning_rate': 0.01, 'n_estimators': 200}\n",
      "0.818238 (0.010622) with: {'learning_rate': 0.01, 'n_estimators': 250}\n",
      "0.819286 (0.010782) with: {'learning_rate': 0.01, 'n_estimators': 300}\n",
      "0.819190 (0.011307) with: {'learning_rate': 0.01, 'n_estimators': 350}\n",
      "0.819571 (0.011136) with: {'learning_rate': 0.01, 'n_estimators': 400}\n",
      "0.820000 (0.011321) with: {'learning_rate': 0.1, 'n_estimators': 50}\n",
      "0.820524 (0.010568) with: {'learning_rate': 0.1, 'n_estimators': 100}\n",
      "0.820286 (0.010627) with: {'learning_rate': 0.1, 'n_estimators': 150}\n",
      "0.820238 (0.011534) with: {'learning_rate': 0.1, 'n_estimators': 200}\n",
      "0.820381 (0.012213) with: {'learning_rate': 0.1, 'n_estimators': 250}\n",
      "0.820333 (0.011836) with: {'learning_rate': 0.1, 'n_estimators': 300}\n",
      "0.820048 (0.011595) with: {'learning_rate': 0.1, 'n_estimators': 350}\n",
      "0.820333 (0.011361) with: {'learning_rate': 0.1, 'n_estimators': 400}\n"
     ]
    }
   ],
   "source": [
    "# Stochastic Gradient Boosting Classification tuning\n",
    "param_grid = dict(n_estimators=np.array([50,100,150,200,250,300,350,400]),learning_rate=np.array([0.001, 0.01, 0.1]))\n",
    "model = GradientBoostingClassifier(random_state=7)\n",
    "kfold = KFold(n_splits=10, random_state=7)\n",
    "gbm_cv = GridSearchCV(estimator=model, param_grid=param_grid, scoring=scoring, cv=kfold)\n",
    "gbmresult = gbm_cv.fit(X_train, y_train)\n",
    "print(\"Best: %f using %s\" % (gbmresult.best_score_, gbmresult.best_params_))\n",
    "means = gbmresult.cv_results_['mean_test_score']\n",
    "stds = gbmresult.cv_results_['std_test_score']\n",
    "params = gbmresult.cv_results_['params']\n",
    "for mean, stdev, param in zip(means, stds, params):\n",
    "    print(\"%f (%f) with: %r\" % (mean, stdev, param))"
   ]
  },
  {
   "cell_type": "code",
   "execution_count": 122,
   "metadata": {},
   "outputs": [
    {
     "name": "stdout",
     "output_type": "stream",
     "text": [
      "[5.38567758e-02 5.92482519e-04 5.03440249e-03 2.68386135e-03\n",
      " 1.14890993e-03 1.14984091e-03 4.08146248e-03 6.65084673e-02\n",
      " 5.27423199e-01 5.81001954e-02 1.06253926e-02 1.01274556e-03\n",
      " 7.30006760e-04 3.36299181e-04 9.87975736e-04 1.12034522e-02\n",
      " 3.24150079e-04 8.02797705e-04 2.91185267e-03 2.51981056e-03\n",
      " 1.84930413e-03 0.00000000e+00 1.18947378e-01 1.85262247e-03\n",
      " 5.61807023e-04 1.17772536e-03 0.00000000e+00 0.00000000e+00\n",
      " 4.11054513e-02 2.59091563e-03 1.53835633e-04 1.72276479e-04\n",
      " 0.00000000e+00 3.71450057e-02 1.41184220e-03 1.88855255e-03\n",
      " 1.25795191e-02 1.85313772e-02 7.35688309e-03 3.98753540e-04\n",
      " 2.42670807e-04]\n"
     ]
    },
    {
     "data": {
      "text/plain": [
       "Text(0, 0.5, 'Feature Importance Score')"
      ]
     },
     "execution_count": 122,
     "metadata": {},
     "output_type": "execute_result"
    },
    {
     "data": {
      "image/png": "[encoded data removed]",
      "text/plain": [
       "<Figure size 432x288 with 1 Axes>"
      ]
     },
     "metadata": {
      "needs_background": "light"
     },
     "output_type": "display_data"
    }
   ],
   "source": [
    "# feature importantce\n",
    "print(gbm_cv.best_estimator_.feature_importances_)\n",
    "feat_imp = pd.Series(gbm_cv.best_estimator_.feature_importances_,Xr.columns).sort_values(ascending=False)\n",
    "feat_imp.plot(kind='bar', title='Feature Importances')\n",
    "plt.ylabel('Feature Importance Score')"
   ]
  },
  {
   "cell_type": "code",
   "execution_count": 123,
   "metadata": {},
   "outputs": [
    {
     "name": "stdout",
     "output_type": "stream",
     "text": [
      "Best: 0.821000 using {'C': 1389495.494373136, 'penalty': 'l2'}\n",
      "0.778333 (0.012212) with: {'C': 1e-05, 'penalty': 'l1'}\n",
      "0.778333 (0.012212) with: {'C': 1e-05, 'penalty': 'l2'}\n",
      "0.778333 (0.012212) with: {'C': 8.483428982440725e-05, 'penalty': 'l1'}\n",
      "0.778333 (0.012212) with: {'C': 8.483428982440725e-05, 'penalty': 'l2'}\n",
      "0.778333 (0.012212) with: {'C': 0.0007196856730011522, 'penalty': 'l1'}\n",
      "0.788857 (0.011709) with: {'C': 0.0007196856730011522, 'penalty': 'l2'}\n",
      "0.806381 (0.011345) with: {'C': 0.006105402296585327, 'penalty': 'l1'}\n",
      "0.807095 (0.010640) with: {'C': 0.006105402296585327, 'penalty': 'l2'}\n",
      "0.817429 (0.010978) with: {'C': 0.05179474679231213, 'penalty': 'l1'}\n",
      "0.817571 (0.011554) with: {'C': 0.05179474679231213, 'penalty': 'l2'}\n",
      "0.819667 (0.011409) with: {'C': 0.4393970560760795, 'penalty': 'l1'}\n",
      "0.820048 (0.011437) with: {'C': 0.4393970560760795, 'penalty': 'l2'}\n",
      "0.820810 (0.011115) with: {'C': 3.727593720314938, 'penalty': 'l1'}\n",
      "0.820857 (0.011082) with: {'C': 3.727593720314938, 'penalty': 'l2'}\n",
      "0.820857 (0.011167) with: {'C': 31.622776601683793, 'penalty': 'l1'}\n",
      "0.820905 (0.011140) with: {'C': 31.622776601683793, 'penalty': 'l2'}\n",
      "0.820952 (0.011115) with: {'C': 268.2695795279727, 'penalty': 'l1'}\n",
      "0.820905 (0.011142) with: {'C': 268.2695795279727, 'penalty': 'l2'}\n",
      "0.820905 (0.011142) with: {'C': 2275.845926074791, 'penalty': 'l1'}\n",
      "0.820905 (0.011142) with: {'C': 2275.845926074791, 'penalty': 'l2'}\n",
      "0.820905 (0.011142) with: {'C': 19306.977288832535, 'penalty': 'l1'}\n",
      "0.820952 (0.011200) with: {'C': 19306.977288832535, 'penalty': 'l2'}\n",
      "0.820952 (0.011115) with: {'C': 163789.3706954068, 'penalty': 'l1'}\n",
      "0.820952 (0.011200) with: {'C': 163789.3706954068, 'penalty': 'l2'}\n",
      "0.820952 (0.011115) with: {'C': 1389495.494373136, 'penalty': 'l1'}\n",
      "0.821000 (0.011173) with: {'C': 1389495.494373136, 'penalty': 'l2'}\n",
      "0.820952 (0.011115) with: {'C': 11787686.347935867, 'penalty': 'l1'}\n",
      "0.820905 (0.011142) with: {'C': 11787686.347935867, 'penalty': 'l2'}\n",
      "0.820952 (0.011115) with: {'C': 100000000.0, 'penalty': 'l1'}\n",
      "0.820905 (0.011142) with: {'C': 100000000.0, 'penalty': 'l2'}\n"
     ]
    }
   ],
   "source": [
    "# LogisticRegression Algorithm tuning\n",
    "kfold = KFold(n_splits=10, random_state=7)\n",
    "model = LogisticRegression()\n",
    "c_space = np.logspace(-5, 8, 15)\n",
    "param_grid = {'C': c_space, 'penalty': ['l1', 'l2']}\n",
    "logreg_cv = GridSearchCV(estimator=model, param_grid=param_grid, scoring=scoring, cv=kfold)\n",
    "logresult=logreg_cv.fit(X_train, y_train)\n",
    "print(\"Best: %f using %s\" % (logresult.best_score_, logresult.best_params_))\n",
    "means = logresult.cv_results_['mean_test_score']\n",
    "stds = logresult.cv_results_['std_test_score']\n",
    "params = logresult.cv_results_['params']\n",
    "for mean, stdev, param in zip(means, stds, params):\n",
    "    print(\"%f (%f) with: %r\" % (mean, stdev, param))"
   ]
  },
  {
   "cell_type": "code",
   "execution_count": 124,
   "metadata": {},
   "outputs": [
    {
     "name": "stdout",
     "output_type": "stream",
     "text": [
      "Best: 0.812190 using {'min_samples_leaf': 100, 'max_features': 9, 'max_depth': 5, 'criterion': 'entropy'}\n",
      "0.803048 (0.020569) with: {'min_samples_leaf': 100, 'max_features': 9, 'max_depth': 7, 'criterion': 'entropy'}\n",
      "0.796429 (0.014674) with: {'min_samples_leaf': 100, 'max_features': 7, 'max_depth': 3, 'criterion': 'entropy'}\n",
      "0.796571 (0.013480) with: {'min_samples_leaf': 30, 'max_features': 3, 'max_depth': 5, 'criterion': 'entropy'}\n",
      "0.788857 (0.018192) with: {'min_samples_leaf': 50, 'max_features': 5, 'max_depth': 3, 'criterion': 'entropy'}\n",
      "0.812190 (0.013293) with: {'min_samples_leaf': 100, 'max_features': 9, 'max_depth': 5, 'criterion': 'entropy'}\n",
      "0.799905 (0.010613) with: {'min_samples_leaf': 100, 'max_features': 9, 'max_depth': 3, 'criterion': 'gini'}\n",
      "0.794810 (0.013365) with: {'min_samples_leaf': 100, 'max_features': 5, 'max_depth': 7, 'criterion': 'gini'}\n",
      "0.793143 (0.016244) with: {'min_samples_leaf': 100, 'max_features': 5, 'max_depth': 3, 'criterion': 'entropy'}\n",
      "0.801286 (0.014289) with: {'min_samples_leaf': 50, 'max_features': 7, 'max_depth': 3, 'criterion': 'gini'}\n",
      "0.808000 (0.013113) with: {'min_samples_leaf': 50, 'max_features': 7, 'max_depth': 7, 'criterion': 'entropy'}\n"
     ]
    }
   ],
   "source": [
    "# DecisionTreeClassifier Algorithm tuning\n",
    "# Setup the parameters and distributions to sample from: param_dist\n",
    "kfold = KFold(n_splits=10, random_state=7)\n",
    "param_dist = {\"max_depth\": [3,5,7],\n",
    "              \"max_features\": [3,5,7,9],\n",
    "              \"min_samples_leaf\": [30,50,100],\n",
    "              \"criterion\": [\"gini\", \"entropy\"]}\n",
    "# Instantiate a Decision Tree classifier: tree\n",
    "tree = DecisionTreeClassifier()\n",
    "# Instantiate the RandomizedSearchCV object: tree_cv\n",
    "tree_cv =RandomizedSearchCV(tree, param_dist, cv=kfold)\n",
    "# Fit it to the data\n",
    "treeresult=tree_cv.fit(X_train, y_train)\n",
    "print(\"Best: %f using %s\" % (treeresult.best_score_, treeresult.best_params_))\n",
    "means = treeresult.cv_results_['mean_test_score']\n",
    "stds = treeresult.cv_results_['std_test_score']\n",
    "params = treeresult.cv_results_['params']\n",
    "for mean, stdev, param in zip(means, stds, params):\n",
    "    print(\"%f (%f) with: %r\" % (mean, stdev, param))"
   ]
  },
  {
   "cell_type": "code",
   "execution_count": 134,
   "metadata": {},
   "outputs": [
    {
     "name": "stdout",
     "output_type": "stream",
     "text": [
      "Best: 0.814524 using {'n_neighbors': 15}\n",
      "0.728762 (0.016361) with: {'n_neighbors': 1}\n",
      "0.782190 (0.010909) with: {'n_neighbors': 3}\n",
      "0.795952 (0.010843) with: {'n_neighbors': 5}\n",
      "0.801667 (0.009776) with: {'n_neighbors': 7}\n",
      "0.810048 (0.010451) with: {'n_neighbors': 9}\n",
      "0.811762 (0.009557) with: {'n_neighbors': 11}\n",
      "0.813238 (0.010009) with: {'n_neighbors': 13}\n",
      "0.814524 (0.009183) with: {'n_neighbors': 15}\n",
      "0.814095 (0.009205) with: {'n_neighbors': 17}\n",
      "0.813143 (0.010142) with: {'n_neighbors': 19}\n",
      "0.814190 (0.009464) with: {'n_neighbors': 21}\n"
     ]
    }
   ],
   "source": [
    "# KNN Algorithm tuning\n",
    "k_values = np.array([1,3,5,7,9,11,13,15,17,19,21])\n",
    "param_grid = dict(n_neighbors=k_values)\n",
    "model = KNeighborsClassifier()\n",
    "kfold = KFold(n_splits=10, random_state=7)\n",
    "knn_cv= GridSearchCV(estimator=model, param_grid=param_grid, scoring=scoring, cv=kfold)\n",
    "knnresult = knn_cv.fit(X_train, y_train)\n",
    "print(\"Best: %f using %s\" % (knnresult.best_score_, knnresult.best_params_))\n",
    "means = knnresult.cv_results_['mean_test_score']\n",
    "stds = knnresult.cv_results_['std_test_score']\n",
    "params = knnresult.cv_results_['params']\n",
    "for mean, stdev, param in zip(means, stds, params):\n",
    "    print(\"%f (%f) with: %r\" % (mean, stdev, param))"
   ]
  },
  {
   "cell_type": "code",
   "execution_count": 125,
   "metadata": {},
   "outputs": [
    {
     "name": "stdout",
     "output_type": "stream",
     "text": [
      "Best: 0.820952 using {'C': 10, 'gamma': 0.1}\n",
      "0.818810 (0.011769) with: {'C': 1, 'gamma': 0.1}\n",
      "0.818238 (0.011303) with: {'C': 1, 'gamma': 0.01}\n",
      "0.820952 (0.011523) with: {'C': 10, 'gamma': 0.1}\n",
      "0.819619 (0.011795) with: {'C': 10, 'gamma': 0.01}\n",
      "0.817810 (0.010295) with: {'C': 100, 'gamma': 0.1}\n",
      "0.819000 (0.011646) with: {'C': 100, 'gamma': 0.01}\n"
     ]
    }
   ],
   "source": [
    "# SVM Algorithm tuning\n",
    "kfold = KFold(n_splits=10, random_state=7)\n",
    "# Specify the hyperparameter space\n",
    "param_grid = {'C':[1, 10, 100],\n",
    "              'gamma':[0.1, 0.01]}\n",
    "model =SVC()\n",
    "kfold = KFold(n_splits=10, random_state=7)\n",
    "svc_cv= GridSearchCV(estimator=model, param_grid=param_grid, scoring=scoring, cv=kfold)\n",
    "svcresult = svc_cv.fit(X_train, y_train)\n",
    "print(\"Best: %f using %s\" % (svcresult.best_score_, svcresult.best_params_))\n",
    "means = svcresult.cv_results_['mean_test_score']\n",
    "stds = svcresult.cv_results_['std_test_score']\n",
    "params = svcresult.cv_results_['params']\n",
    "for mean, stdev, param in zip(means, stds, params):\n",
    "    print(\"%f (%f) with: %r\" % (mean, stdev, param))"
   ]
  },
  {
   "cell_type": "code",
   "execution_count": 126,
   "metadata": {},
   "outputs": [
    {
     "name": "stdout",
     "output_type": "stream",
     "text": [
      "Best: 0.803095 using {'max_features': 5, 'n_estimators': 400}\n",
      "0.801286 (0.010215) with: {'max_features': 3, 'n_estimators': 50}\n",
      "0.802524 (0.010409) with: {'max_features': 3, 'n_estimators': 100}\n",
      "0.802000 (0.008515) with: {'max_features': 3, 'n_estimators': 150}\n",
      "0.801714 (0.009852) with: {'max_features': 3, 'n_estimators': 200}\n",
      "0.803000 (0.009003) with: {'max_features': 3, 'n_estimators': 250}\n",
      "0.801333 (0.009568) with: {'max_features': 3, 'n_estimators': 300}\n",
      "0.802571 (0.010593) with: {'max_features': 3, 'n_estimators': 350}\n",
      "0.802048 (0.009621) with: {'max_features': 3, 'n_estimators': 400}\n",
      "0.800524 (0.009016) with: {'max_features': 5, 'n_estimators': 50}\n",
      "0.801095 (0.008886) with: {'max_features': 5, 'n_estimators': 100}\n",
      "0.801333 (0.009452) with: {'max_features': 5, 'n_estimators': 150}\n",
      "0.801952 (0.009079) with: {'max_features': 5, 'n_estimators': 200}\n",
      "0.801714 (0.008766) with: {'max_features': 5, 'n_estimators': 250}\n",
      "0.801524 (0.009696) with: {'max_features': 5, 'n_estimators': 300}\n",
      "0.801667 (0.009390) with: {'max_features': 5, 'n_estimators': 350}\n",
      "0.803095 (0.008871) with: {'max_features': 5, 'n_estimators': 400}\n",
      "0.802000 (0.009656) with: {'max_features': 7, 'n_estimators': 50}\n",
      "0.800952 (0.009649) with: {'max_features': 7, 'n_estimators': 100}\n",
      "0.801143 (0.009256) with: {'max_features': 7, 'n_estimators': 150}\n",
      "0.801905 (0.009226) with: {'max_features': 7, 'n_estimators': 200}\n",
      "0.801905 (0.008987) with: {'max_features': 7, 'n_estimators': 250}\n",
      "0.802143 (0.009827) with: {'max_features': 7, 'n_estimators': 300}\n",
      "0.802429 (0.009864) with: {'max_features': 7, 'n_estimators': 350}\n",
      "0.802905 (0.009021) with: {'max_features': 7, 'n_estimators': 400}\n",
      "0.801190 (0.009753) with: {'max_features': 9, 'n_estimators': 50}\n",
      "0.802714 (0.010077) with: {'max_features': 9, 'n_estimators': 100}\n",
      "0.802048 (0.009548) with: {'max_features': 9, 'n_estimators': 150}\n",
      "0.801476 (0.009511) with: {'max_features': 9, 'n_estimators': 200}\n",
      "0.802095 (0.009785) with: {'max_features': 9, 'n_estimators': 250}\n",
      "0.801810 (0.008790) with: {'max_features': 9, 'n_estimators': 300}\n",
      "0.802190 (0.009385) with: {'max_features': 9, 'n_estimators': 350}\n",
      "0.802095 (0.009234) with: {'max_features': 9, 'n_estimators': 400}\n",
      "0.801524 (0.008895) with: {'max_features': 10, 'n_estimators': 50}\n",
      "0.801762 (0.009633) with: {'max_features': 10, 'n_estimators': 100}\n",
      "0.802524 (0.009817) with: {'max_features': 10, 'n_estimators': 150}\n",
      "0.801524 (0.009606) with: {'max_features': 10, 'n_estimators': 200}\n",
      "0.801571 (0.010491) with: {'max_features': 10, 'n_estimators': 250}\n",
      "0.802714 (0.009831) with: {'max_features': 10, 'n_estimators': 300}\n",
      "0.802810 (0.009579) with: {'max_features': 10, 'n_estimators': 350}\n",
      "0.801667 (0.009339) with: {'max_features': 10, 'n_estimators': 400}\n"
     ]
    }
   ],
   "source": [
    "# Random Forest Classification tuning\n",
    "param_grid = dict(n_estimators=np.array([50,100,150,200,250,300,350,400]),max_features=np.array([3,5,7,9,10]))\n",
    "model = RandomForestClassifier()\n",
    "kfold = KFold(n_splits=10, random_state=7)\n",
    "rf_cv = GridSearchCV(estimator=model, param_grid=param_grid, scoring=scoring, cv=kfold)\n",
    "rfresult = rf_cv.fit(X_train, y_train)\n",
    "print(\"Best: %f using %s\" % (rfresult.best_score_, rfresult.best_params_))\n",
    "means = rfresult.cv_results_['mean_test_score']\n",
    "stds = rfresult.cv_results_['std_test_score']\n",
    "params = rfresult.cv_results_['params']\n",
    "for mean, stdev, param in zip(means, stds, params):\n",
    "    print(\"%f (%f) with: %r\" % (mean, stdev, param))"
   ]
  },
  {
   "cell_type": "markdown",
   "metadata": {},
   "source": [
    "### 2.9 - Model Evaluation"
   ]
  },
  {
   "cell_type": "code",
   "execution_count": 127,
   "metadata": {},
   "outputs": [
    {
     "name": "stdout",
     "output_type": "stream",
     "text": [
      "[0 0 0 ... 1 0 0]\n",
      "Accuracy: 0.8201111111111111\n",
      "              precision    recall  f1-score   support\n",
      "\n",
      "           0       0.84      0.95      0.89      7019\n",
      "           1       0.67      0.35      0.46      1981\n",
      "\n",
      "    accuracy                           0.82      9000\n",
      "   macro avg       0.76      0.65      0.68      9000\n",
      "weighted avg       0.80      0.82      0.80      9000\n",
      "\n",
      "Tuned Model Parameters: {'learning_rate': 0.1, 'n_estimators': 100}\n"
     ]
    }
   ],
   "source": [
    "# Predict the labels of the test set: y_pred using Gradient Boosting Classification\n",
    "y_pred = gbm_cv.predict(X_test)\n",
    "print(y_pred)\n",
    "# Compute and print metrics\n",
    "print(\"Accuracy: {}\".format(gbm_cv.score(X_test, y_test)))\n",
    "print(classification_report(y_test, y_pred))\n",
    "print(\"Tuned Model Parameters: {}\".format(gbm_cv.best_params_))"
   ]
  },
  {
   "cell_type": "code",
   "execution_count": 128,
   "metadata": {},
   "outputs": [
    {
     "name": "stdout",
     "output_type": "stream",
     "text": [
      "Accuracy: 0.8186666666666667\n",
      "              precision    recall  f1-score   support\n",
      "\n",
      "           0       0.84      0.95      0.89      7019\n",
      "           1       0.67      0.35      0.46      1981\n",
      "\n",
      "    accuracy                           0.82      9000\n",
      "   macro avg       0.75      0.65      0.68      9000\n",
      "weighted avg       0.80      0.82      0.80      9000\n",
      "\n",
      "Tuned Model Parameters: {'C': 1389495.494373136, 'penalty': 'l2'}\n"
     ]
    }
   ],
   "source": [
    "# Predict the labels of the test set: y_pred using LogisticRegression\n",
    "y_pred2 = logreg_cv.predict(X_test)\n",
    "# Compute and print metrics\n",
    "print(\"Accuracy: {}\".format(logreg_cv.score(X_test, y_test)))\n",
    "print(classification_report(y_test, y_pred2))\n",
    "print(\"Tuned Model Parameters: {}\".format(logreg_cv.best_params_))"
   ]
  },
  {
   "cell_type": "code",
   "execution_count": 135,
   "metadata": {},
   "outputs": [
    {
     "name": "stdout",
     "output_type": "stream",
     "text": [
      "Accuracy: 0.8163333333333334\n",
      "              precision    recall  f1-score   support\n",
      "\n",
      "           0       0.84      0.95      0.89      7019\n",
      "           1       0.65      0.35      0.46      1981\n",
      "\n",
      "    accuracy                           0.82      9000\n",
      "   macro avg       0.75      0.65      0.67      9000\n",
      "weighted avg       0.80      0.82      0.79      9000\n",
      "\n",
      "Tuned Model Parameters: {'n_neighbors': 15}\n"
     ]
    }
   ],
   "source": [
    "# Predict the labels of the test set: y_pred using KNN\n",
    "y_pred3 = knn_cv.predict(X_test)\n",
    "# Compute and print metrics\n",
    "print(\"Accuracy: {}\".format(knn_cv.score(X_test, y_test)))\n",
    "print(classification_report(y_test, y_pred3))\n",
    "print(\"Tuned Model Parameters: {}\".format(knn_cv.best_params_))"
   ]
  },
  {
   "cell_type": "code",
   "execution_count": 130,
   "metadata": {},
   "outputs": [
    {
     "name": "stdout",
     "output_type": "stream",
     "text": [
      "Accuracy: 0.8188888888888889\n",
      "              precision    recall  f1-score   support\n",
      "\n",
      "           0       0.84      0.95      0.89      7019\n",
      "           1       0.68      0.34      0.45      1981\n",
      "\n",
      "    accuracy                           0.82      9000\n",
      "   macro avg       0.76      0.65      0.67      9000\n",
      "weighted avg       0.80      0.82      0.80      9000\n",
      "\n",
      "Tuned Model Parameters: {'C': 10, 'gamma': 0.1}\n"
     ]
    }
   ],
   "source": [
    "# Predict the labels of the test set: y_pred using SVM\n",
    "y_pred4 = svc_cv.predict(X_test)\n",
    "# Compute and print metrics\n",
    "print(\"Accuracy: {}\".format(svc_cv.score(X_test, y_test)))\n",
    "print(classification_report(y_test, y_pred4))\n",
    "print(\"Tuned Model Parameters: {}\".format(svc_cv.best_params_))"
   ]
  },
  {
   "cell_type": "code",
   "execution_count": 131,
   "metadata": {},
   "outputs": [
    {
     "name": "stdout",
     "output_type": "stream",
     "text": [
      "Accuracy: 0.7968888888888889\n",
      "              precision    recall  f1-score   support\n",
      "\n",
      "           0       0.84      0.92      0.88      7019\n",
      "           1       0.56      0.36      0.44      1981\n",
      "\n",
      "    accuracy                           0.80      9000\n",
      "   macro avg       0.70      0.64      0.66      9000\n",
      "weighted avg       0.77      0.80      0.78      9000\n",
      "\n",
      "Tuned Model Parameters: {'max_features': 5, 'n_estimators': 400}\n"
     ]
    }
   ],
   "source": [
    "# Predict the labels of the test set: y_pred using Random Forest\n",
    "y_pred5 = rf_cv.predict(X_test)\n",
    "# Compute and print metrics\n",
    "print(\"Accuracy: {}\".format(rf_cv.score(X_test, y_test)))\n",
    "print(classification_report(y_test, y_pred5))\n",
    "print(\"Tuned Model Parameters: {}\".format(rf_cv.best_params_))"
   ]
  },
  {
   "cell_type": "markdown",
   "metadata": {},
   "source": [
    "### Save the model in disk"
   ]
  },
  {
   "cell_type": "code",
   "execution_count": 136,
   "metadata": {},
   "outputs": [],
   "source": [
    "# save the model to disk\n",
    "filename = 'finalized_model.sav'\n",
    "dump(gbm_cv, open(filename, 'wb'))"
   ]
  },
  {
   "cell_type": "markdown",
   "metadata": {},
   "source": [
    "# 3 - Results"
   ]
  },
  {
   "cell_type": "markdown",
   "metadata": {},
   "source": [
    "### Load the Model"
   ]
  },
  {
   "cell_type": "code",
   "execution_count": 137,
   "metadata": {},
   "outputs": [
    {
     "name": "stdout",
     "output_type": "stream",
     "text": [
      "0.8201111111111111\n"
     ]
    }
   ],
   "source": [
    "loaded_model = load(open(filename, 'rb'))\n",
    "result = loaded_model.score(X_test, y_test)\n",
    "print(result)"
   ]
  },
  {
   "cell_type": "markdown",
   "metadata": {},
   "source": [
    "# 4 - Results Discussion"
   ]
  },
  {
   "cell_type": "raw",
   "metadata": {},
   "source": [
    "Stochastic Gradient Boosting model is the best model we suggest Credit One Company to use, because this model has the highest accuracy and F1-score. The accuracy of this model is 0.82011, and the F1-score of this model is 0.80, which is good because is closer to 1.\n",
    "Accuracy is used when the True Positives and True negatives are more important while F1-score is used when the False Negatives and False Positives are crucial.  \n",
    "In our case both metrics are important. However, F1 score gives a better measure of the incorrectly classified cases than the Accuracy Metric. "
   ]
  },
  {
   "cell_type": "markdown",
   "metadata": {},
   "source": [
    "# 5 - Recomendations"
   ]
  },
  {
   "cell_type": "raw",
   "metadata": {},
   "source": [
    "If the accuracy must be improved, additional data can be collected to update the model. "
   ]
  },
  {
   "cell_type": "markdown",
   "metadata": {},
   "source": [
    "# 6 - References"
   ]
  },
  {
   "cell_type": "raw",
   "metadata": {},
   "source": [
    "1 - https://github.com/smelendez25/XTOL-Module_5\n",
    "2 - https://github.com/vsmolyakov/experiments_with_python/blob/master/chp01/ensemble_methods.ipynb\n",
    "3 - https://machinelearningmastery.com/machine-learning-in-python-step-by-step/"
   ]
  }
 ],
 "metadata": {
  "kernelspec": {
   "display_name": "Python 3",
   "language": "python",
   "name": "python3"
  },
  "language_info": {
   "codemirror_mode": {
    "name": "ipython",
    "version": 3
   },
   "file_extension": ".py",
   "mimetype": "text/x-python",
   "name": "python",
   "nbconvert_exporter": "python",
   "pygments_lexer": "ipython3",
   "version": "3.7.4"
  }
 },
 "nbformat": 4,
 "nbformat_minor": 2
}
